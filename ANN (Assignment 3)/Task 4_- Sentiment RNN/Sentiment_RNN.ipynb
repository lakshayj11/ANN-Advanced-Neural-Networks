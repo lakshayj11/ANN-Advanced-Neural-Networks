{
 "cells": [
  {
   "cell_type": "markdown",
   "metadata": {
    "colab_type": "text",
    "id": "BzyOE-V1P8OG"
   },
   "source": [
    "# Sentiment Analysis with an RNN\n",
    "\n",
    "In this notebook, you'll implement a recurrent neural network that performs sentiment analysis. Using an RNN rather than a feedfoward network is more accurate since we can include information about the *sequence* of words. Here we'll use a dataset of movie reviews, accompanied by labels.\n",
    "\n",
    "The architecture for this network is shown below.\n",
    "\n",
    "<img src=\"assets/network_diagram.png\" width=400px>\n",
    "\n",
    "Here, we'll pass in words to an embedding layer. We need an embedding layer because we have tens of thousands of words, so we'll need a more efficient representation for our input data than one-hot encoded vectors. You should have seen this before from the word2vec lesson. You can actually train up an embedding with word2vec and use it here. But it's good enough to just have an embedding layer and let the network learn the embedding table on it's own.\n",
    "\n",
    "From the embedding layer, the new representations will be passed to LSTM cells. These will add recurrent connections to the network so we can include information about the sequence of words in the data. Finally, the LSTM cells will go to a sigmoid output layer here. We're using the sigmoid because we're trying to predict if this text has positive or negative sentiment. The output layer will just be a single unit then, with a sigmoid activation function.\n",
    "\n",
    "We don't care about the sigmoid outputs except for the very last one, we can ignore the rest. We'll calculate the cost from the output of the last step and the training label."
   ]
  },
  {
   "cell_type": "code",
   "execution_count": 49,
   "metadata": {
    "colab": {},
    "colab_type": "code",
    "collapsed": true,
    "id": "TxDnD19pP8OI",
    "jupyter": {
     "outputs_hidden": true
    }
   },
   "outputs": [],
   "source": [
    "%tensorflow_version 1.x\n",
    "import numpy as np\n",
    "import tensorflow as tf"
   ]
  },
  {
   "cell_type": "code",
   "execution_count": 50,
   "metadata": {
    "colab": {},
    "colab_type": "code",
    "id": "5Cnf2yeBP8OO"
   },
   "outputs": [],
   "source": [
    "with open('reviews.txt', 'r') as f:\n",
    "    reviews = f.read()\n",
    "with open('labels.txt', 'r') as f:\n",
    "    labels = f.read()"
   ]
  },
  {
   "cell_type": "code",
   "execution_count": 51,
   "metadata": {
    "colab": {
     "base_uri": "https://localhost:8080/",
     "height": 140
    },
    "colab_type": "code",
    "id": "U7UUezoKP8OT",
    "outputId": "e965cc08-4f67-466a-bd4d-980a0e812e81"
   },
   "outputs": [
    {
     "data": {
      "application/vnd.google.colaboratory.intrinsic": {
       "type": "string"
      },
      "text/plain": [
       "'bromwell high is a cartoon comedy . it ran at the same time as some other programs about school life  such as  teachers  . my   years in the teaching profession lead me to believe that bromwell high  s satire is much closer to reality than is  teachers  . the scramble to survive financially  the insightful students who can see right through their pathetic teachers  pomp  the pettiness of the whole situation  all remind me of the schools i knew and their students . when i saw the episode in which a student repeatedly tried to burn down the school  i immediately recalled . . . . . . . . . at . . . . . . . . . . high . a classic line inspector i  m here to sack one of your teachers . student welcome to bromwell high . i expect that many adults of my age think that bromwell high is far fetched . what a pity that it isn  t   \\nstory of a man who has unnatural feelings for a pig . starts out with a opening scene that is a terrific example of absurd comedy . a formal orchestra audience is turned into an insane  violent mob by the crazy chantings of it  s singers . unfortunately it stays absurd the whole time with no general narrative eventually making it just too off putting . even those from the era should be turned off . the cryptic dialogue would make shakespeare seem easy to a third grader . on a technical level it  s better than you might think with some good cinematography by future great vilmos zsigmond . future stars sally kirkland and frederic forrest can be seen briefly .  \\nhomelessness  or houselessness as george carlin stated  has been an issue for years but never a plan to help those on the street that were once considered human who did everything from going to school  work  or vote for the matter . most people think of the homeless as just a lost cause while worrying about things such as racism  the war on iraq  pressuring kids to succeed  technology  the elections  inflation  or worrying if they  ll be next to end up on the streets .  br    br   but what if y'"
      ]
     },
     "execution_count": 51,
     "metadata": {
      "tags": []
     },
     "output_type": "execute_result"
    }
   ],
   "source": [
    "reviews[:2000]"
   ]
  },
  {
   "cell_type": "markdown",
   "metadata": {
    "colab_type": "text",
    "id": "unJnqfc9P8OX"
   },
   "source": [
    "## Data preprocessing\n",
    "\n",
    "The first step when building a neural network model is getting your data into the proper form to feed into the network. Since we're using embedding layers, we'll need to encode each word with an integer. We'll also want to clean it up a bit.\n",
    "\n",
    "You can see an example of the reviews data above. We'll want to get rid of those periods. Also, you might notice that the reviews are delimited with newlines `\\n`. To deal with those, I'm going to split the text into each review using `\\n` as the delimiter. Then I can combined all the reviews back together into one big string.\n",
    "\n",
    "First, let's remove all punctuation. Then get all the text without the newlines and split it into individual words."
   ]
  },
  {
   "cell_type": "code",
   "execution_count": 52,
   "metadata": {
    "colab": {},
    "colab_type": "code",
    "collapsed": true,
    "id": "untpU-9xP8OX",
    "jupyter": {
     "outputs_hidden": true
    }
   },
   "outputs": [],
   "source": [
    "from string import punctuation\n",
    "all_text = ''.join([c for c in reviews if c not in punctuation])\n",
    "reviews = all_text.split('\\n')\n",
    "\n",
    "all_text = ' '.join(reviews)\n",
    "words = all_text.split()"
   ]
  },
  {
   "cell_type": "code",
   "execution_count": 53,
   "metadata": {
    "colab": {
     "base_uri": "https://localhost:8080/",
     "height": 140
    },
    "colab_type": "code",
    "id": "pFOAMtlnP8Oa",
    "outputId": "bcbbc308-00dc-4aa2-f7a4-79ac0e4d2aa3"
   },
   "outputs": [
    {
     "data": {
      "application/vnd.google.colaboratory.intrinsic": {
       "type": "string"
      },
      "text/plain": [
       "'bromwell high is a cartoon comedy  it ran at the same time as some other programs about school life  such as  teachers   my   years in the teaching profession lead me to believe that bromwell high  s satire is much closer to reality than is  teachers   the scramble to survive financially  the insightful students who can see right through their pathetic teachers  pomp  the pettiness of the whole situation  all remind me of the schools i knew and their students  when i saw the episode in which a student repeatedly tried to burn down the school  i immediately recalled          at           high  a classic line inspector i  m here to sack one of your teachers  student welcome to bromwell high  i expect that many adults of my age think that bromwell high is far fetched  what a pity that it isn  t    story of a man who has unnatural feelings for a pig  starts out with a opening scene that is a terrific example of absurd comedy  a formal orchestra audience is turned into an insane  violent mob by the crazy chantings of it  s singers  unfortunately it stays absurd the whole time with no general narrative eventually making it just too off putting  even those from the era should be turned off  the cryptic dialogue would make shakespeare seem easy to a third grader  on a technical level it  s better than you might think with some good cinematography by future great vilmos zsigmond  future stars sally kirkland and frederic forrest can be seen briefly    homelessness  or houselessness as george carlin stated  has been an issue for years but never a plan to help those on the street that were once considered human who did everything from going to school  work  or vote for the matter  most people think of the homeless as just a lost cause while worrying about things such as racism  the war on iraq  pressuring kids to succeed  technology  the elections  inflation  or worrying if they  ll be next to end up on the streets   br    br   but what if you were given a bet to live on the st'"
      ]
     },
     "execution_count": 53,
     "metadata": {
      "tags": []
     },
     "output_type": "execute_result"
    }
   ],
   "source": [
    "\n",
    "all_text[:2000]"
   ]
  },
  {
   "cell_type": "code",
   "execution_count": 54,
   "metadata": {
    "colab": {
     "base_uri": "https://localhost:8080/",
     "height": 1000
    },
    "colab_type": "code",
    "id": "0NTG7LADP8Od",
    "outputId": "35c314c0-05ad-4177-ffce-491c2e09a584"
   },
   "outputs": [
    {
     "data": {
      "text/plain": [
       "['bromwell',\n",
       " 'high',\n",
       " 'is',\n",
       " 'a',\n",
       " 'cartoon',\n",
       " 'comedy',\n",
       " 'it',\n",
       " 'ran',\n",
       " 'at',\n",
       " 'the',\n",
       " 'same',\n",
       " 'time',\n",
       " 'as',\n",
       " 'some',\n",
       " 'other',\n",
       " 'programs',\n",
       " 'about',\n",
       " 'school',\n",
       " 'life',\n",
       " 'such',\n",
       " 'as',\n",
       " 'teachers',\n",
       " 'my',\n",
       " 'years',\n",
       " 'in',\n",
       " 'the',\n",
       " 'teaching',\n",
       " 'profession',\n",
       " 'lead',\n",
       " 'me',\n",
       " 'to',\n",
       " 'believe',\n",
       " 'that',\n",
       " 'bromwell',\n",
       " 'high',\n",
       " 's',\n",
       " 'satire',\n",
       " 'is',\n",
       " 'much',\n",
       " 'closer',\n",
       " 'to',\n",
       " 'reality',\n",
       " 'than',\n",
       " 'is',\n",
       " 'teachers',\n",
       " 'the',\n",
       " 'scramble',\n",
       " 'to',\n",
       " 'survive',\n",
       " 'financially',\n",
       " 'the',\n",
       " 'insightful',\n",
       " 'students',\n",
       " 'who',\n",
       " 'can',\n",
       " 'see',\n",
       " 'right',\n",
       " 'through',\n",
       " 'their',\n",
       " 'pathetic',\n",
       " 'teachers',\n",
       " 'pomp',\n",
       " 'the',\n",
       " 'pettiness',\n",
       " 'of',\n",
       " 'the',\n",
       " 'whole',\n",
       " 'situation',\n",
       " 'all',\n",
       " 'remind',\n",
       " 'me',\n",
       " 'of',\n",
       " 'the',\n",
       " 'schools',\n",
       " 'i',\n",
       " 'knew',\n",
       " 'and',\n",
       " 'their',\n",
       " 'students',\n",
       " 'when',\n",
       " 'i',\n",
       " 'saw',\n",
       " 'the',\n",
       " 'episode',\n",
       " 'in',\n",
       " 'which',\n",
       " 'a',\n",
       " 'student',\n",
       " 'repeatedly',\n",
       " 'tried',\n",
       " 'to',\n",
       " 'burn',\n",
       " 'down',\n",
       " 'the',\n",
       " 'school',\n",
       " 'i',\n",
       " 'immediately',\n",
       " 'recalled',\n",
       " 'at',\n",
       " 'high']"
      ]
     },
     "execution_count": 54,
     "metadata": {
      "tags": []
     },
     "output_type": "execute_result"
    }
   ],
   "source": [
    "words[:100]"
   ]
  },
  {
   "cell_type": "markdown",
   "metadata": {
    "colab_type": "text",
    "id": "CfpC3669P8Of"
   },
   "source": [
    "### Encoding the words\n",
    "\n",
    "The embedding lookup requires that we pass in integers to our network. The easiest way to do this is to create dictionaries that map the words in the vocabulary to integers. Then we can convert each of our reviews into integers so they can be passed into the network.\n",
    "\n",
    "> **Exercise:** Now you're going to encode the words with integers. Build a dictionary that maps words to integers. Later we're going to pad our input vectors with zeros, so make sure the integers **start at 1, not 0**.\n",
    "> Also, convert the reviews to integers and store the reviews in a new list called `reviews_ints`. "
   ]
  },
  {
   "cell_type": "code",
   "execution_count": 55,
   "metadata": {
    "colab": {
     "base_uri": "https://localhost:8080/",
     "height": 54
    },
    "colab_type": "code",
    "id": "SB3mPKdsagLh",
    "outputId": "ec425e16-ce4a-43c5-d355-6d53e8c9f7ef"
   },
   "outputs": [
    {
     "name": "stdout",
     "output_type": "stream",
     "text": [
      "['bromwell high is a cartoon comedy  it ran at the same time as some other programs about school life  such as  teachers   my   years in the teaching profession lead me to believe that bromwell high  s satire is much closer to reality than is  teachers   the scramble to survive financially  the insightful students who can see right through their pathetic teachers  pomp  the pettiness of the whole situation  all remind me of the schools i knew and their students  when i saw the episode in which a student repeatedly tried to burn down the school  i immediately recalled          at           high  a classic line inspector i  m here to sack one of your teachers  student welcome to bromwell high  i expect that many adults of my age think that bromwell high is far fetched  what a pity that it isn  t   ', 'story of a man who has unnatural feelings for a pig  starts out with a opening scene that is a terrific example of absurd comedy  a formal orchestra audience is turned into an insane  violent mob by the crazy chantings of it  s singers  unfortunately it stays absurd the whole time with no general narrative eventually making it just too off putting  even those from the era should be turned off  the cryptic dialogue would make shakespeare seem easy to a third grader  on a technical level it  s better than you might think with some good cinematography by future great vilmos zsigmond  future stars sally kirkland and frederic forrest can be seen briefly   ', 'homelessness  or houselessness as george carlin stated  has been an issue for years but never a plan to help those on the street that were once considered human who did everything from going to school  work  or vote for the matter  most people think of the homeless as just a lost cause while worrying about things such as racism  the war on iraq  pressuring kids to succeed  technology  the elections  inflation  or worrying if they  ll be next to end up on the streets   br    br   but what if you were given a bet to live on the streets for a month without the luxuries you once had from a home  the entertainment sets  a bathroom  pictures on the wall  a computer  and everything you once treasure to see what it  s like to be homeless  that is goddard bolt  s lesson   br    br   mel brooks  who directs  who stars as bolt plays a rich man who has everything in the world until deciding to make a bet with a sissy rival  jeffery tambor  to see if he can live in the streets for thirty days without the luxuries if bolt succeeds  he can do what he wants with a future project of making more buildings  the bet  s on where bolt is thrown on the street with a bracelet on his leg to monitor his every move where he can  t step off the sidewalk  he  s given the nickname pepto by a vagrant after it  s written on his forehead where bolt meets other characters including a woman by the name of molly  lesley ann warren  an ex  dancer who got divorce before losing her home  and her pals sailor  howard morris  and fumes  teddy wilson  who are already used to the streets  they  re survivors  bolt isn  t  he  s not used to reaching mutual agreements like he once did when being rich where it  s fight or flight  kill or be killed   br    br   while the love connection between molly and bolt wasn  t necessary to plot  i found  life stinks  to be one of mel brooks  observant films where prior to being a comedy  it shows a tender side compared to his slapstick work such as blazing saddles  young frankenstein  or spaceballs for the matter  to show what it  s like having something valuable before losing it the next day or on the other hand making a stupid bet like all rich people do when they don  t know what to do with their money  maybe they should give it to the homeless instead of using it like monopoly money   br    br   or maybe this film will inspire you to help others   ', 'airport    starts as a brand new luxury    plane is loaded up with valuable paintings  such belonging to rich businessman philip stevens  james stewart  who is flying them  a bunch of vip  s to his estate in preparation of it being opened to the public as a museum  also on board is stevens daughter julie  kathleen quinlan   her son  the luxury jetliner takes off as planned but mid  air the plane is hi  jacked by the co  pilot chambers  robert foxworth   his two accomplice  s banker  monte markham   wilson  michael pataki  who knock the passengers  crew out with sleeping gas  they plan to steal the valuable cargo  land on a disused plane strip on an isolated island but while making his descent chambers almost hits an oil rig in the ocean  loses control of the plane sending it crashing into the sea where it sinks to the bottom right bang in the middle of the bermuda triangle  with air in short supply  water leaking in  having flown over    miles off course the problems mount for the survivor  s as they await help with time fast running out     br    br   also known under the slightly different tile airport     this second sequel to the smash  hit disaster thriller airport       was directed by jerry jameson  while once again like it  s predecessors i can  t say airport    is any sort of forgotten classic it is entertaining although not necessarily for the right reasons  out of the three airport films i have seen so far i actually liked this one the best  just  it has my favourite plot of the three with a nice mid  air hi  jacking  then the crashing  didn  t he see the oil rig    sinking of the     maybe the makers were trying to cross the original airport with another popular disaster flick of the period the poseidon adventure         submerged is where it stays until the end with a stark dilemma facing those trapped inside  either suffocate when the air runs out or drown as the    floods or if any of the doors are opened  it  s a decent idea that could have made for a great little disaster flick but bad unsympathetic character  s  dull dialogue  lethargic set  pieces  a real lack of danger or suspense or tension means this is a missed opportunity  while the rather sluggish plot keeps one entertained for    odd minutes not that much happens after the plane sinks  there  s not as much urgency as i thought there should have been  even when the navy become involved things don  t pick up that much with a few shots of huge ships  helicopters flying about but there  s just something lacking here  george kennedy as the jinxed airline worker joe patroni is back but only gets a couple of scenes  barely even says anything preferring to just look worried in the background   br    br   the home video  theatrical version of airport    run    minutes while the us tv versions add an extra hour of footage including a new opening credits sequence  many more scenes with george kennedy as patroni  flashbacks to flesh out character  s  longer rescue scenes  the discovery or another couple of dead bodies including the navigator  while i would like to see this extra footage i am not sure i could sit through a near three hour cut of airport     as expected the film has dated badly with horrible fashions  interior design choices  i will say no more other than the toy plane model effects aren  t great either  along with the other two airport sequels this takes pride of place in the razzie award  s hall of shame although i can think of lots of worse films than this so i reckon that  s a little harsh  the action scenes are a little dull unfortunately  the pace is slow  not much excitement or tension is generated which is a shame as i reckon this could have been a pretty good film if made properly   br    br   the production values are alright if nothing spectacular  the acting isn  t great  two time oscar winner jack lemmon has said since it was a mistake to star in this  one time oscar winner james stewart looks old  frail  also one time oscar winner lee grant looks drunk while sir christopher lee is given little to do  there are plenty of other familiar faces to look out for too   br    br   airport    is the most disaster orientated of the three airport films so far  i liked the ideas behind it even if they were a bit silly  the production  bland direction doesn  t help though  a film about a sunken plane just shouldn  t be this boring or lethargic  followed by the concorde    airport            ', 'brilliant over  acting by lesley ann warren  best dramatic hobo lady i have ever seen  and love scenes in clothes warehouse are second to none  the corn on face is a classic  as good as anything in blazing saddles  the take on lawyers is also superb  after being accused of being a turncoat  selling out his boss  and being dishonest the lawyer of pepto bolt shrugs indifferently  i  m a lawyer  he says  three funny words  jeffrey tambor  a favorite from the later larry sanders show  is fantastic here too as a mad millionaire who wants to crush the ghetto  his character is more malevolent than usual  the hospital scene  and the scene where the homeless invade a demolition site  are all  time classics  look for the legs scene and the two big diggers fighting  one bleeds   this movie gets better each time i see it  which is quite often    ', 'this film lacked something i couldn  t put my finger on at first charisma on the part of the leading actress  this inevitably translated to lack of chemistry when she shared the screen with her leading man  even the romantic scenes came across as being merely the actors at play  it could very well have been the director who miscalculated what he needed from the actors  i just don  t know   br    br   but could it have been the screenplay  just exactly who was the chef in love with  he seemed more enamored of his culinary skills and restaurant  and ultimately of himself and his youthful exploits  than of anybody or anything else  he never convinced me he was in love with the princess   br    br   i was disappointed in this movie  but  don  t forget it was nominated for an oscar  so judge for yourself   ', 'this is easily the most underrated film inn the brooks cannon  sure  its flawed  it does not give a realistic view of homelessness  unlike  say  how citizen kane gave a realistic view of lounge singers  or titanic gave a realistic view of italians you idiots   many of the jokes fall flat  but still  this film is very lovable in a way many comedies are not  and to pull that off in a story about some of the most traditionally reviled members of society is truly impressive  its not the fisher king  but its not crap  either  my only complaint is that brooks should have cast someone else in the lead  i love mel as a director and writer  not so much as a lead    ', 'sorry everyone    i know this is supposed to be an  art  film   but wow  they should have handed out guns at the screening so people could blow their brains out and not watch  although the scene design and photographic direction was excellent  this story is too painful to watch  the absence of a sound track was brutal  the loooonnnnng shots were too long  how long can you watch two people just sitting there and talking  especially when the dialogue is two people complaining  i really had a hard time just getting through this film  the performances were excellent  but how much of that dark  sombre  uninspired  stuff can you take  the only thing i liked was maureen stapleton and her red dress and dancing scene  otherwise this was a ripoff of bergman  and i  m no fan f his either  i think anyone who says they enjoyed     hours of this is   well  lying   ', 'this is not the typical mel brooks film  it was much less slapstick than most of his movies and actually had a plot that was followable  leslie ann warren made the movie  she is such a fantastic  under  rated actress  there were some moments that could have been fleshed out a bit more  and some scenes that could probably have been cut to make the room to do so  but all in all  this is worth the price to rent and see it  the acting was good overall  brooks himself did a good job without his characteristic speaking to directly to the audience  again  warren was the best actor in the movie  but  fume  and  sailor  both played their parts well   ', 'when i was little my parents took me along to the theater to see interiors  it was one of many movies i watched with my parents  but this was the only one we walked out of  since then i had never seen interiors until just recently  and i could have lived out the rest of my life without it  what a pretentious  ponderous  and painfully boring piece of    s wine and cheese tripe  woody allen is one of my favorite directors but interiors is by far the worst piece of crap of his career  in the unmistakable style of ingmar berman  allen gives us a dark  angular  muted  insight in to the lives of a family wrought by the psychological damage caused by divorce  estrangement  career  love  non  love  halitosis  whatever  the film  intentionally  has no comic relief  no music  and is drenched in shadowy pathos  this film style can be best defined as expressionist in nature  using an improvisational method of dialogue to illicit a  more pronounced depth of meaning and truth   but woody allen is no ingmar bergman  the film is painfully slow and dull  but beyond that  i simply had no connection with or sympathy for any of the characters  instead i felt only contempt for this parade of shuffling  whining  nicotine stained  martyrs in a perpetual quest for identity  amid a backdrop of cosmopolitan affluence and baked brie intelligentsia the story looms like a fart in the room  everyone speaks in affected platitudes and elevated language between cigarettes  everyone is  lost  and  struggling   desperate to find direction or understanding or whatever and it just goes on and on to the point where you just want to slap all of them  it  s never about resolution  it  s only about interminable introspective babble  it is nothing more than a psychological drama taken to an extreme beyond the audience  s ability to connect  woody allen chose to make characters so immersed in themselves we feel left out  and for that reason i found this movie painfully self indulgent and spiritually draining  i see what he was going for but his insistence on promoting his message through prozac prose and distorted film techniques jettisons it past the point of relevance  i highly recommend this one if you  re feeling a little too happy and need something to remind you of death  otherwise  let  s just pretend this film never happened   ', 'this isn  t the comedic robin williams  nor is it the quirky  insane robin williams of recent thriller fame  this is a hybrid of the classic drama without over  dramatization  mixed with robin  s new love of the thriller  but this isn  t a thriller  per se  this is more a mystery  suspense vehicle through which williams attempts to locate a sick boy and his keeper   br    br   also starring sandra oh and rory culkin  this suspense drama plays pretty much like a news report  until william  s character gets close to achieving his goal   br    br   i must say that i was highly entertained  though this movie fails to teach  guide  inspect  or amuse  it felt more like i was watching a guy  williams   as he was actually performing the actions  from a third person perspective  in other words  it felt real  and i was able to subscribe to the premise of the story   br    br   all in all  it  s worth a watch  though it  s definitely not friday  saturday night fare   br    br   it rates a       from     br    br   the fiend    ', '  it appears that many critics find the idea of a woody allen drama unpalatable   and for good reason they are unbearably wooden and pretentious imitations of bergman  and let  s not kid ourselves critics were mostly supportive of allen  s bergman pretensions  allen  s whining accusations to the contrary notwithstanding  what i don  t get is this why was allen generally applauded for his originality in imitating bergman  but the contemporaneous brian depalma was excoriated for  ripping off  hitchcock in his suspense  horror films  in robin wood  s view  it  s a strange form of cultural snobbery  i would have to agree with that   ', 'yes its an art    to successfully make a slow paced thriller   br    br   the story unfolds in nice volumes while you don  t even notice it happening   br    br   fine performance by robin williams  the sexuality angles in the film can seem unnecessary and can probably affect how much you enjoy the film  however  the core plot is very engaging  the movie doesn  t rush onto you and still grips you enough to keep you wondering  the direction is good  use of lights to achieve desired affects of suspense and unexpectedness is good   br    br   very nice  time watch if you are looking to lay back and hear a thrilling short story   ', 'the second attempt by a new york intellectual in less than   years to make a  swedish  film  the first being susan sontag  s  brother carl   which was made in sweden  with swedish actors  no less   the results  oscar wilde said it best  in reference to dickens   the old curiosity shop    one would have to have a heart of stone not to laugh out loud at the death of little nell   pretty much the same thing here   interiors  is chock full of solemnly intoned howlers    i  m afraid of my anger   looking into the middle distance  i don  t like who i  m becoming    the directorial quotations  to use a polite term  from bergman are close to parody  the incredibly self  involved family keep reminding us of how brilliant and talented they are  to the point of strangulation    i read a poem of yours the other day  it was in  i don  t know  the new yorker    oh  that was an old poem  i reworked it    far from not caring about these people  however  i found them quite hilarious  much of the dialog is exactly like the funny stuff from allen  s earlier films  only he  s directed his actors to play the lines straight  having not cast himself in the movie  he has poor mary beth hurt copy all of his thespian tics  intonations  and neurotic habits  turning her into an embarrassing surrogate  much like kenneth branagh in  celebrity     br    br   the basic plot  dysfunctional family with quietly domineering mother  seems to be lifted more or less from bergman  s  winter light   the basic family melodrama tricked up with a lot of existential angst  it all comes through in the shopworn visual  aural tricks the deafening scratching of a pencil on paper  the towering surf that dwarfs the people walking on the beach  etc  etc   br    br   allen  s later  serious  films are less embarrassing  but also far less entertaining  i  ll take  interiors   woody  s rarely made a funnier movie   ', 'in this  critically acclaimed psychological thriller based on true events  gabriel  robin williams   a celebrated writer and late  night talk show host  becomes captivated by the harrowing story of a young listener and his adoptive mother  toni collette   when troubling questions arise about this boy  s  story   however  gabriel finds himself drawn into a widening mystery that hides a deadly secret  according to film  s official synopsis   br    br   you really should stop reading these comments  and watch the film now     br    br   the  how did he lose his leg   ending  with ms  collette planning her new life  should be chopped off  and sent to  deleted scenes  land  it  s overkill  the true nature of her physical and mental ailments should be obvious  by the time mr  williams returns to new york  possibly  her blindness could be in question  but a revelation could have be made certain in either the  highway  or  video tape  scenes  the film would benefit from a re  editing  how about a  director  s cut    br    br   williams and bobby cannavale  as jess  don  t seem  initially  believable as a couple  a scene or two establishing their relationship might have helped set the stage  otherwise  the cast is exemplary  williams offers an exceptionally strong characterization  and not a  gay impersonation   sandra oh  as anna   joe morton  as ashe   and rory culkin  pete logand  are all perfect   br    br   best of all  collette  s  donna  belongs in the creepy hall of fame  ms  oh is correct in saying collette might be   you know  like that guy from  psycho    there have been several years when organizations giving acting awards seemed to reach for women  due to a slighter dispersion of roles certainly  they could have noticed collette with some award consideration  she is that good  and  director patrick stettner definitely evokes hitchcock  he even makes getting a sandwich from a vending machine suspenseful   br    br   finally  writers stettner  armistead maupin  and terry anderson deserve gratitude from flight attendants everywhere   br    br    the night listener          patrick stettner  robin williams  toni collette  sandra oh  rory culkin  ', 'i don  t know who to blame  the timid writers or the clueless director  it seemed to be one of those movies where so much was paid to the stars  angie  charlie  denise  rosanna and jon  that there wasn  t enough left to really make a movie  this could have been very entertaining  but there was a veil of timidity  even cowardice  that hung over each scene  since it got an r rating anyway why was the ubiquitous bubble bath scene shot with a    year  old woman and not angie harmon  why does sheen sleepwalk through potentially hot relationships with two of the most beautiful and sexy actresses in the world  if they were only looking for laughs why not cast whoopi goldberg and judy tenuta instead  this was so predictable i was surprised to find that the director wasn  t a five year old  what a waste  not just for the viewers but for the actors as well   ', 'the night listener           robin williams  toni collette  bobby cannavale  rory culkin  joe morton  sandra oh  john cullum  lisa emery  becky ann baker   dir patrick stettner   br    br   hitchcockian suspenser gives williams a stand  out low  key performance   br    br   what is it about celebrities and fans  what is the near paranoia one associates with the other and why is it almost the norm   br    br   in the latest derange fan scenario  based on true events no less  williams stars as a talk  radio personality named gabriel no one  who reads stories he  s penned over the airwaves and has accumulated an interesting fan in the form of a young boy named pete logand  culkin  who has submitted a manuscript about the travails of his troubled youth to no one  s editor ashe  morton  who gives it to no one to read for himself   br    br   no one is naturally disturbed but ultimately intrigued about the nightmarish existence of pete being abducted and sexually abused for years until he was finally rescued by a nurse named donna  collette giving an excellent performance  who has adopted the boy but her correspondence with no one reveals that pete is dying from aids  naturally no one wants to meet the fans but is suddenly in doubt to their possibly devious ulterior motives when the seed is planted by his estranged lover jess  cannavale  whose sudden departure from their new york city apartment has no one in an emotional tailspin that has only now grown into a tempest in a teacup when he decides to do some investigating into donna and pete  s backgrounds discovering some truths that he didn  t anticipate   br    br   written by armistead maupin  who co  wrote the screenplay with his former lover terry anderson and the film  s novice director stettner  and based on a true story about a fan  s hoax found out has some hitchcockian moments that run on full tilt like any good old fashioned pot  boiler does  it helps that williams gives a stand  out  low  key performance as the conflicted good  hearted personality who genuinely wants to believe that his number one fan is in fact real and does love him  the one thing that has escaped his own reality  and has some unsettling dreadful moments with the creepy collette whose one physical trait i will leave unmentioned but underlines the desperation of her character that can rattle you to the core   br    br   however the film runs out of gas and eventually becomes a bit repetitive and predictable despite a finely directed piece of hoodwink and mystery by stettner  it pays to listen to your own inner voice be careful of what you hope for   ', 'this film is mediocre at best  angie harmon is as funny as a bag of hammers  her bitchy demeanor from  law and order  carries over in a failed attempt at comedy  charlie sheen is the only one to come out unscathed in this horrible anti  comedy  the only positive thing to come out of this mess is charlie and denise  s marriage  hopefully that effort produces better results   ', 'you know  robin williams  god bless him  is constantly shooting himself in the foot lately with all these dumb comedies he has done this decade  with perhaps the exception of  death to smoochy   which bombed when it came out but is now a cult classic   the dramas he has made lately have been fantastic  especially  insomnia  and  one hour photo    the night listener   despite mediocre reviews and a quick dvd release  is among his best work  period   br    br   this is a very chilling story  even though it doesn  t include a serial killer or anyone that physically dangerous for that matter  the concept of the film is based on an actual case of fraud that still has yet to be officially confirmed  in high school  i read an autobiography by a child named anthony godby johnson  who suffered horrific abuse and eventually contracted aids as a result  i was moved by the story until i read reports online that johnson may not actually exist  when i saw this movie  the confused feelings that robin williams so brilliantly portrayed resurfaced in my mind   br    br   toni collette probably gives her best dramatic performance too as the ultimately sociopathic  caretaker   her role was a far cry from those she had in movies like  little miss sunshine   there were even times she looked into the camera where i thought she was staring right at me  it takes a good actress to play that sort of role  and it  s this understated  yet well reviewed  role that makes toni collette probably one of the best actresses of this generation not to have even been nominated for an academy award  as of       it  s incredible that there is at least one woman in this world who is like this  and it  s scary too   br    br   this is a good  dark film that i highly recommend  be prepared to be unsettled  though  because this movie leaves you with a strange feeling at the end   ', 'the film is bad  there is no other way to say it  the story is weak and outdated  especially for this country  i don  t think most people know what a  walker  is or will really care  i felt as if i was watching a movie from the    s  the subject was just not believable for the year      even being set in dc  i think this rang true for everyone else who watched it too as the applause were low and quick at the end  most didn  t stay for the qa either   br    br   i don  t think schrader really thought the film out ahead of time  many of the scenes seemed to be cut short as if they were never finished or he just didn  t know how to finish them  he jumped from one scene to the next and you had to try and figure out or guess what was going on  i really didn  t get woody  s  carter  private life or boyfriend either  what were all the  artistic  male bondage and torture pictures  from iraq prisons  about  what was he thinking  i think it was his very poor attempt at trying to create this dark private subculture life for woody  s character  car   it didn  t work  it didn  t even seem to make sense really   br    br   the only good thing about this film was woody harrelson  he played his character  car  flawlessly  you really did get a great sense of what a  walker  may have been like  say twenty years ago   he was great and most likely will never get recognized for it   br    br   as for lauren  lily and kristin    boring   br    br   don  t see it  it is painful  unless you are a true harrelson fan   ', 'when i first read armistead maupins story i was taken in by the human drama displayed by gabriel no one and those he cares about and loves  that being said  we have now been given the film version of an excellent story and are expected to see past the gloss of hollywood     br    br   writer armistead maupin and director patrick stettner have truly succeeded   br    br   with just the right amount of restraint robin williams captures the fragile essence of gabriel and lets us see his struggle with issues of trust both in his personnel life  jess  and the world around him  donna    br    br   as we are introduced to the players in this drama we are reminded that nothing is ever as it seems and that the smallest event can change our lives irrevocably  the request to review a book written by a young man turns into a life changing event that helps gabriel find the strength within himself to carry on and move forward   br    br   it  s to bad that most people will avoid this film  i only say that because the average american will probably think  robin williams in a serious role  that didn  t work before   please give this movie a chance  robin williams touches the darkness we all must find and go through in ourselves to be better people  like his movie one hour photo he has stepped up as an actor and made another quality piece of art   br    br   oh and before i forget  i believe bobby cannavale as jess steals every scene he is in  he has the      s leading man looks and screen presence  it  s this hacks opinion he could carry his own movie right now    br    br   s  ', 'this film is one giant pant load  paul schrader is utterly lost in his own bad screenplay  and his directing is about as comatose as it can be without his actually having been sleepwalking during the process   br    br   the worst though is woody harrelson  whom i ordinarily like when he  s properly cast  he plays  the walker   a homosexual man in d  c  who plays social companion to the bored wives of the washington elite  he couldn  t have been more one dimensional if he had been cut out of a magazine and bounced around in front of the camera on a popsicle stick  his  southern accent  is that  off the rack  version that decrescendos from the beginning to the end of every line he delivers  as though the heat and humidity of the south is still draining him of every ounce of energy he has  it is monotonous  but  his is not the worst accent in the movie  his  boyfriend   played by moritz bleibtreau  attempts to affect some kind of a mid east accent that is so clumsy he can barely deliver the bad lines written for him  he is incapable of rolling his r  s in spite of the fact that in real life he is german  and speaks several languages  one of them being italian  that  s kind of a good reason to cast someone else don  t ya think   br    br   from the story  to the screenplay  to the directing  to the camera work  to the performances by the leads  this movie is bad from beginning to end  the only tolerable moments in this film came from three supporting actresses lily tomlin  lauren bacall  and kristin scott thomas  only these three managed to make it through this movie with their dignity in tact  in fact  all three are excellent  in spite of being trapped in a really bad film  ufortunately  no one could ever be good enough to redeem this endless series of flaws  if you like these three actresses  watch them in something else  this movie is not worth your time   ', 'i liked the film  some of the action scenes were very interesting  tense and well done  i especially liked the opening scene which had a semi truck in it  a very tense action scene that seemed well done   br    br   some of the transitional scenes were filmed in interesting ways such as time lapse photography  unusual colors  or interesting angles  also the film is funny is several parts  i also liked how the evil guy was portrayed too  i  d give the film an  out of     ', 'the plot for descent  if it actually can be called a plot  has two noteworthy events  one near the beginning  one at the end  together these events make up maybe   of the total movie time  everything  and i mean  everything   in between is basically the director  s desperate effort to fill in the minutes  i like disturbing movies  i like dark movies and i don  t get troubled by gritty scenes  but if you expect me to sit through   minutes of hazy  dark  literally  scenes with no storyline you have another thing coming  rosario dawson  one of my favorite actresses is completely wasted here  and no  she doesn  t get naked  not even in the nc    version  which i saw   br    br   if you have a couple of hours to throw away and want to watch  descent   take a nap instead  you  ll probably have more interesting dreams   ', 'there are many illnesses born in the mind of man which have been given life in modern times  constant vigilance or accrued information in the realm of pyschosis  have kept psychologists  counselors and psychiatrists busy with enough work to last them decades  occasionally  some of these mental phenomenon are discover by those with no knowledge of their remedy or even of their existence  that is the premise of the film entitled  the night listner   it tells the story of a popular radio host called gabriel noon  robin williams  who spends his evenings enthralling his audiences with vivid stories about gay lifestyles  perhaps its because his show is losing it  s authentic veneer which causes noon to admit he is no longer himself  feeling abandoned by both his lover jess  bobby cannavale  and his and best friend  joe morton   he seeks shelter in his deepening despair and isolation  it is here  a mysterious voice in the night asks him for help  noon needs to feel useful and reaches out to the desperate voice which belongs to a   year old boy called peter  rory culkin   in reading the boy  s harrowing manuscript which depicts the early life and sexual abuse at the hands of his brutal parents  noon is captivated and wants to help  however  things are not what they seem and noon soon finds himself en  wrapped in an elusive and bizarre tale torn right out of a medical nightmare  this movie is pure robin williams and were it not for toni collette who plays donna d  logand  sandra oh as anna and john cullum as pop  this might be comical  instead  this may prove to be one of william  s more serious performances    ', 'plot is not worth discussion even if it hints at corruption  murder  power and the rest of thriller related topics  characters are interesting though sometimes  not realistic but interesting nevertheless   br    br   development is slow like tea drinking ceremony  visuals not stunning  but good enough to ease the eye strain  good movie to watch after dinner before going to bed  nothing shocking too much  nothing overexciting  movie sitcom style   br    br   i liked woody  excellent performance  had to fight the plot inadequacy and did the job pretty good  the rest are bearable though very predictable  the whole is watchable and better than most tv shows   ', 'i enjoyed the night listener very much  it  s one of the better movies of the summer   br    br   robin williams gives one of his best performances  in fact  the entire cast was very good  all played just the right notes for their characters  not too much and not too little  sandra oh adds a wonderful comic touch  toni collette is great as the mom  and never goes over the top  everyone is very believable   br    br   it  s a short movie  just under an hour and a half  i noticed the general release version is nine minutes shorter than the sundance version  i wonder if some of the more disturbing images were cut from the movie   br    br   the director told a story and did it in straightforward fashion  which is a refreshing change from many directors these days who seem to think their job is to impress the audience rather than tell a story and tell it well   br    br   do not be sucker punched by the previews and ads  it is not a hitchcockian thriller  see the night listener because you want to see a good story told well  if you go expecting hitchcock you will be disappointed   br    br   my only complaint with the movie was the ending  the director could have left a little more to the audience  s imagination  but this is a minor quibble   ', 'this film is about a male escort getting involved in a murder investigation that happened in the circle of powerful men  s wives   br    br   i thought  the walker  would be thrilling and engaging  but i was so wrong  the pacing is painfully and excruciatingly slow  that even after   minutes of the film nothing happens much  seriously  the first hour could be condensed into ten minutes  that  s how slow it is   br    br   the fact that it lacks any thrills or action scenes aggravates the boredom  it  s almost shocking that even argument scenes are so plain and devoid of emotion  maybe it is because of the stiff upper lip of the higher social class   br    br   it  s sad that  the walker  becomes such a boring mess  despite such a strong cast  blame it on the poor plot and even worse pacing   ', 'the night listener is probably not one of william  s best roles  but he makes a very interesting character in a somewhat odd but very different movie  i can guarantee you that you have never seen this kind of movie before  some people maybe won  t like the slow pacing of this movie  but i think it  s the great plus of the movie  it is definitely one of the top movies that have come out the year      it has a intriguing performance in a movie with a great content  dramatic feeling  this is no americanized movie  neither is it a predictable movie  you just feel that it is a movie that has secrets which you have a hard time to determine what the outcome of it may be  this is no excellent movie that has everything  but hell  it  s a damn good and very original movie   ', 'this movie must be in line for the most boring movie in years  not even woody harrison can save this movie from sinking to the bottom   br    br   the murder in this movie are supposed to be the point of interest in this movie but is not  nothing is of any interest  the cast are not to bad but the script are just plain awful  i just sat in utter amazement during this movie  thinking how on earth can anyone find this movie entertaining  br    br   the producers of this movie were very clever  they made a boring movie but hid it well with the names of good actors and actresses on their cast  people will go to the blockbuster and probably see this movie and think  woody harrison  kristin scott thomas and willem dafoe this must be good and rent this movie   boy are they in for a horrible time   br    br   if you like getting ripped off go and rent this movie  some people actually did enjoyed this movie but i like to watch a movie with meaning  ', 'like one of the previous commenters said  this had the foundations of a great movie but something happened on the way to delivery  such a waste because collette  s performance was eerie and williams was believable  i just kept waiting for it to get better  i don  t think it was bad editing or needed another director  it could have just been the film  it came across as a canadian movie  something like the first few seasons of x  files  not cheap  just hokey  also  it needed a little more suspense  something that makes you jump off your seat  the movie reached that moment then faded away kind of like a false climax  i can see how being too suspenseful would have taken away from the  reality  of the story but i thought that part was reached when gabriel was in the hospital looking for the boy  this movie needs to have a director  s cut that tries to fix these problems   ', 'a worn  out plot of a man who takes the rap for a woman in a murder case  the equally worn  out plot of an outsider on the inside who eventually is shut out   br    br   with such an outstanding case  one would think the film would rise above its hackneyed origins  but scene after scene drones by with no change in intensity  no character arcs  and inexplicable behavior   br    br   the homosexuality theme was completely unnecessary   or on the other hand  completely unexplored  it seemed to be included only to titillate the viewers  when will hollywood learn that having gay characters does not automatically make a more compelling picture   br    br   a regrettably dreadful movie  when will lauren bacall pick a good one  i expected better of her and kristin scott thomas  this one is definitely one to miss   ', 'the night listener held my attention  with robin williams shining as a new york city radio host who becomes enamored with his friendship with a   year old boy  rory culkin  who is very ill  williams has never met the boy in person  as they have only been in contact by talking on the telephone  however  williams  ex  boyfriend  nice job from bobby cannavale  raises doubt about the boy  which prompts williams to arrange a meeting with him in person  what follows makes a permanent impact on williams in a way he does not expect  i will leave it at that  toni collette also stars   br    br   i enjoyed this film  with toni collette giving a memorable portrayal of culkin  s adoptive mother  sandra oh also starred as williams  friend  the night listener is inspired by actual events  and it has a somber  almost creepy silence throughout  at times it is predictable  no thanks to some of the reviews i read before seeing the movie and just due to logic  but i liked it anyway  i enjoy williams in roles like this  more so than his comedic characters so that was an added bonus for me  recommended       ', 'i saw this movie at a drive  in in      until  howard the duck  i considered this the worst movie i had ever seen  this movie tried to combine all the genera in one comedy  horror  teenage angst  and the hot rod that must have sired  my mother  the car   maybe it deserves a second viewing to see if it is an accurate reflection of it  s time   ', 'popular radio storyteller gabriel no one  robin williams  scraggy and speaking in hushed  hypnotic tones  becomes acquainted and friends with a fourteen  year  old boy from wisconsin named pete logand  rory culkin   who has written a book detailing sexual abuse from his parents  to boot  pete has aids and this compels gabriel further still  since his partner jess  bobby cannavale  good  happens to be a survivor of hiv himself   br    br   he also acquaints himself with pete  s guardian  a woman named donna  toni collette  brilliant   and when gabriel decides he wants to meet and talk to the two of them in person and goes to wisconsin  he discovers some secrets he was  naturally  not prepared to find   br    br   based on real events that happened to armistead maupin  who co  wrote the screenplay with terry anderson  and directed by patrick stetner  this film moves a lot faster    min   maybe a few minutes longer  than one might think a movie of this genre would run  that  s good in that it keeps the action and storyline lean and clear  it  s bad in that it leaves various holes in the plot and doesn  t sew  up any of the plot openings or back  story  i  d rather not go into any great detail except to say that  if you are not familiar with mr  maupin  s works or his personal story  you feel a little bit out of the loop here  still  the performances by williams  i would  ve loved to heard more of his narration  personally   collette  cannavale  culkin and much of the supporting cast  the waitress at the restaurant collete  s donna frequents does a great job with what small part she has   are top  notch and the mood established here   namely  the chilly  lonely dark exteriors of wisconsin and new york   give a terrific framing for this story  it may have ends that don  t tie together particularly well  but it  s still a compelling enough story to stick with   ', 'ghost of dragstrip hollow is a typical      s teens in turmoil movie  it is not a horror or science fiction movie  plot concerns a group of teens who are about to get kicked out of their  hot rod  club because they cannot meet the rent  once kicked out  they decide to try an old haunted house  the only saving grace for the film is that the  ghost   paul blaisdell in the she creature suit  turns out to be an out of work movie monster played by blaisdell   ', 'if there is one thing to recommend about this film is that it is intriguing  the premise certainly draws the audience in because it is a mystery  and throughout the film there are hints that there is something dark lurking about  however  there is not much tension  and williams  mild mannered portrayal doesn  t do much to makes us relate to his obsession with the boy   br    br   collete fares much better as the woman whose true nature and intentions are not very clear  the production felt rushed and holes are apparent  it certainly feels like a preview for a much more complete and better effort  the book is probably better   br    br   one thing is certain taupin must have written something truly good to have inspired at least one commendable effort   ', '  ghost of dragstrip hollow  was one of the many    s movies about hot  rodding teens encountering the supernatural  in this case  the teens can  t pay the rent for their hangout and get evicted  with nowhere else to go  they decide on an apparently haunted house  as you may have guessed  once they arrive  some weird things start happening  and there  s a twist at the end   br    br   there  s nothing in this movie that you haven  t seen in other movies  but it  s nice entertainment nonetheless  my favorite character was the foul  mouthed parrot  well  let me rephrase that he didn  t talk like a character in a quentin tarantino movie  but he said things that we don  t expect out of a bird  the movie  s pure hokum  but harmless   ', 'i absolutely loved this film  i do not at all relate to all the other comments i have read about it  i was completely enthralled through every second   br    br   i found the story gripping  the acting intense  and the direction spot  on  i would literally jump every time the phone would ring close to the end of the movie  even though there was nothing  scary  about the story itself  i was soundly on edge through the whole movie  and for the rest of my evening   br    br   i found that there were so many perfect choices made    the casting  the script  the little bits of humor sprinkled in it  there were so many points where the film could  ve gone for the cheap thrill  but it never did  and that for me put this movie above so many of the mediocre thrillers that have come out lately    and for the last number of years   ', '  ghost of dragstrip hollow  appears to take place in a spotless netherworld  an era long gone by  where the biggest sin a kid could commit would be in defying the law and getting a traffic ticket  it opens with a young female auto fanatic getting the business from her arch rival  who pressures her into a car race  that  s about it for the drag  racing   this b  flick is mostly concerned with rock  n roll  man  the folks at american international were obviously fond of decent  square teens who liked to party and yet didn  t mind an adult chaperone  there are a few amusing double entendres and fruity exchanges  necking kid  we thought we  d come out for some fresh air     dad  where did you think you  d find it  down her throat     but the ghost is a little late in arriving  brief at   minutes  the movie cheats us with a climactic car race that actually takes place off  screen and a pre   scooby doo   styled unmasking which makes no sense  however  for nostalgia buffs  some mindless fun   from   ', 'this night listener is better than people are generally saying  it has weaknesses  and it seems to be having a genre identity crisis  no doubt  but i think its creepy atmosphere and intriguing performances make up for this  the whole thing feels like one of those fireside  this happened to a friend of a friend of mine  ghost stories  one big complaint about the movie is the pacing but the slow and sometimes awkward pacing is deliberate  everything that unfolds in this movie is kept well within the realm of possibility  and real life just sort of plods alongno  so there are no flashy endings or earth  shattering revelations  no  showdown  scenes  thank heaven  you have to get into the zone when watching this movie  forget your reservations and your expectations of what makes a  conventionally  good movie  williams isn  t terrific  but he easily meets the needs of the story  plus his character is supposed to be somewhat generic   no one   as he is the everyman  the avatar by which we ourselves enter the story  toni collette  s performance should be nominated for an oscar  even if she maybe shouldn  t win it   give it a shot  for quality and content alone  the night listener is surely in the top twenty percent of movies coming out these days   ', 'the characters are unlikeable and the script is awful  it  s a waste of the talents of deneuve and auteuil   ', 'when it comes to movies i can be pretty picky  and i  ll complain about anything and everything that is done wrong  while every movie has its flaws  the night listener had an exceptionally low count   br    br   if you read the last review  it was hard  since half of it was written in caps and it contained no actual information about the movie   you may have been led to believe that this movie was not too well done  unfortunately  if you read more than  lines into that same review  you discovered the poster  s reason for disdain he  she does not like the fact that the director is gay  or that the production team smokes crack    apparently    br    br   so  despite the fact that i have never written a review before  i thought this movie deserved one based on its merits  not the sexual orientation of its director  let  s go over a quick checklist first   great plot  absolutely  i won  t give a shred of it away  but the plot is highly compelling and definitely not what one would expect based on the commercials  this is a thriller  not a horror  and it should be approached as such  the story really will amaze you  even more so because it  s true  and the plot did stay quite faithful to the actual events    br    br     wonderful acting  oh yes  robin williams long ago broke free from the chains of the comedy type  cast  and he has since flourished in serious roles for which many people would have wrote him off just a decade ago  he once again achieves high form in his role in the night listener  playing a radio host who becomes increasingly troubled by and entangled in a case of    well  i  ll let you see for yourself   br    br     excellent direction  certainly  now  unlike the other poster to which i referred  i actually know something about direction  i  ve been sutdying the art of direction at school now for  years  of course i really don  t think that makes a lick of difference  the only thing that matters is if you like the direction   but i thought i should simply establish once again that i  m basing my opinions here on something both substantial and relevant    for example not the sexual orientation of the director  or the alleged drug habits of the production team  lol    br    br   patrick stettner  s direction was moody and dark  and he allowed the angles and lighting to help create those so  sought  after feelings of  tension and release  rather than the messy  fast  paced camera  work and quick cuts we  re so often subjected to today  some people can truly show you a story through their camera  while other  s feel as if they have to make the story with the camera  i really appreciate when someone these days has the courage to just use the camera as its supposed to be utilized  which is as an eyeball through which we all see   br    br     lighting  cinematography  and editing  great all around  i  ve already wrote so much  and i could go on about these last three things for another ten paragraphs  so i  ll just wrap it up   br    br   in short  go see this movie  don  t listen to people who have alterior motives for trashing it  especially if they  re so stupid that they unknowingly reveal that motive    of the way through their post  enjoy the show   ben  ', 'kareena kapoor in a bikini hmmmmmmmm   br    br   akshay kumar     br    br   anil kapoor      br    br   maybe saif      br    br   kareena kapoor in a bikini       br    br   good banner    br    br   kareena kapoor in a bikini       br    br   not one good reason not to see this movie      br    br   or so i thought         didnt these people make jbj     br    br   why o why did i forget that   br    br   for all the criticism the first half of the movie isn  t that bad     br    br   there is some intrigue and you feel a sort of irritation mixed with excitement that i felt when seeing guy ritchie movies like lock stock and snatch   br    br   kareena kapoor is sizzling in a very skinny model sort of way   br    br   akshay kumar is akshay kumar as only he can be   br    br   anil kapoor is annoying but kind of funny  you almost forget that most of the time you cannot understand him   br    br   saif is sidey ala main khiladi   once again   br    br   there is the occasional laugh and a few chuckles  and a few goosebumps during the kareena  saif love story  kareena in the rain  behind me on my bike hmmmmmmm    br    br   but mostly this half promises more than it delivers       br    br   which makes the second half all the more unbearable      br    br   there was almost a cheer when the interval came not only because because of the wet kareena because of what people thought were the things to come   br    br   instead we were treated to mind numbing torture which is difficult to put in words   br    br   saif suddenly seam like a comic sidekick     br    br   suddenly the sexy kareena looks anorexic  you realise that the second last floor is now empty and her face looks to big for her body  only girls can notice this and make other guys notice the second last floor was my observation    br    br   anil kapoor and his sidekicks get on your nerves   br    br   akshay kumar is the only one who carries off the madness to some extent but even he become intolerable after a while   br    br   all the while you are subjected to one absurdity after the other   br    br   why     what      when     where     what have i done to deserve this     br    br   a collective gasp went trough the audience before every song in the second half  which were ordinary even without the movie around it   br    br   cannot relieve the trauma anymore      br    br   conclusion   br    br   this movie starts of as a buzz which you feel could even turn out to a high but ends up slowly moving towards a headache and then rapidly turns into a full blown migraine attack   br    br   please don  t watch this movie for any reason other than academic interest   br    br   s cast  akshay kumar  first half   br    br      s what  when  how  who to much confusion   need a book to fill this    br    br   s cast  the whole second half  need many pages to fill this    br    br   total      im trying to avoid the  s and  s too not seem to extreme but make no mistake this movie is unwatchable no matter how decent the first half is    ', 'somewhat funny and well  paced action thriller that has jamie foxx as a hapless  fast  talking hoodlum who is chosen by an overly demanding u  s  treasury agent  david morse  to be released on the streets of new york to find a picky computer thief  hacker  doug hutchinson   who stole forty  two million dollars from the treasury and left two guards shot dead   br    br    bait  marks the sophomore feature for antoine fuqua   the replacement killers   and he handles the task fairly well even though it doesn  t top his first movie  what the two films have in common is the action sequences  which are flat  out excellent   br    br   foxx is pretty good here although his character is annoying in the beginning  but throughout the film  i began to catch on  hutchinson is marvelous as the mastermind who can be ruthless as john malkovich and patient as the late laurence olivier was in  marathon man   morse is okay as the agent who comes up with the ingenious plan to get whoever did it at all cost   ', 'i rented this on dvd and i kind of feel bad since dawson and lugacy are so earnest about it in the dvd comments  it  s not a bad movie exactly  but it  s one of those films that desperately wants to be a deep comment on human nature while not realizing that its story is practically a genre  plus  it is a little simplistic about the issue in a lot of ways  and the characters  behavior often strains belief  i  d say its a film that you would get something out of if you don  t have a lot of film  tv  literature  life behind you  to be honest  i  ve seen almost exactly the same story in horror comics even   otherwise  its point has been made before and more artfully  and that gets to the big problem  which is that it really doesn  t have much of cinematic interest to it besides the point  it ends up being a fairly bland movie overall that invests everything in the idea that the basic story will be shocking and compelling  and it doesn  t really pay off   ', 'the legendary boris karloff ended his illustrious career by making four cheapie fright flick clunkers in mexico  this is the token moody period gothic horror entry from the bunch  karloff gives a typically spry and dignified performance as matthias morteval  an elderly eccentric patriarch who invites several of his petty  greedy and backbiting no  count relatives to his creepy rundown castle for the reading of a will  pretty soon the hateful guests are getting bumped off by lethal life  sized toy people who populate the place  onetime mexican sex symbol andres garcia of  tintorera  infamy portrays the dashing police officer hero and julissa looks absolutely ravishing as the sole likable female character  the clunky  plodding  non  direction  trite by  the  numbers script  ugly  washed  out cinematography  ridiculous murder set pieces  a gross fat slob gets blasted right in the face by a miniature cannon    overwrought string score  morbid gloom  doom atmosphere  largely lousy acting  karloff notably excepted   cheesy mild gore  poor dubbing and rousing fiery conclusion all lend this enjoyably awful lemon a certain endearingly cruddy and hence oddly amusing ratty charm  a real campy hoot   ', 'vijay krishna acharya  s  tashan  is a over  hyped  stylized  product  sure its a one of the most stylish films  but when it comes to content  even the masses will reject this one  why  the films script is as amateur as a  year old baby  script is king  without a good script even the greatest director of all  time cannot do anything  tashan is produced by the most successful production banner  yash raj films  and mega stars appearing in it  but nothing on earth can save you if you script is bland  thumbs down   br    br   performances anil kapoor  is a veteran actor  but how could he okay a role like this  akshay kumar is great actor  in fact he  s the sole saving grace  kareena kapoor has never looked so hot  she looks stunning and leaves you  all stand up  saif ali khan doesn  t get his due in here  sanjay mishra  manoj phawa and yashpal sharma are wasted   br    br    tashan  is a boring film  the films failure at the box office  should you keep away   ', 'this tale based on two edgar allen poe pieces   the fall of the house of usher    dance of death   poem   is actually quite creepy from beginning to end  it is similar to some of the old black  and  white movies about people that meet in an old decrepit house  for example   the cat and the canary    the old dark house    night of terror  and so on   boris karloff plays a demented inventor of life  size dolls that terrorize the guests  he dies early in the film  or does he   and the residents of the house are subjected to a number of terrifying experiences  i won  t go into too much detail here  but it is definitely a must  see for fans of old dark house mysteries   br    br   watch it with plenty of popcorn and soda in a darkened room   br    br   dan basinger      ', 'the worst movie i have seen since tera jadoo chal gaya  there is no story  no humor  no nothing  the action sequences seem more like a series of haphazard akshay kumar thumbs  up advertisements stitched together  heavily influenced from the matrix and kung  fu hustle but very poorly executed   br    br   i did not go a lot of expectations  but watching this movie is an exasperating experience which makes you wonder  what were these guys thinking        br    br   the only thing you might remember after watching it is an anorexic kareena in a bikini   br    br   the reason why i did not give a rating of    is that every time i think i have seen the worst  bollywood proves me wrong   ', 'aro tolbukhin burnt alive seven people in a mission in guatemala in the    s  also he declared that he had murdered another   people  he used to kill pregnant women  and then he set them on fire    br    br   this movie is a documentary that portraits the personality of aro through several interviews with people that got to know him and through some scenes played by actors based on real facts   br    br    aro tolbukhin  is a serious work  so analytical  it  s not morbid at all  such a horrifying testimony about how some childhood trauma can turn a man into a monster   br    br   my rate      ', 'summer season is here when the choices in the cinemas are limited to what  s the hottest movie of the week  given      of the screens dedicated to screening it  ok  so i may exaggerate on the percentage  but you get my drift  besides stuff from hollywood  bollywood too have their own share of highly anticipated blockbusters  and from some of the trailers shown  i  m hyped to watch them too  tashan was billed as one of the most highly anticipated for      but i was quite surprised at the lower than low turnout at the cinemas  when i watched jodha akbar  it was a full house  but it wasn  t for tashan   br    br   after watching it  i knew why  it was entertaining  but it was fundamentally weak  just like it  s literal english title  which means  style   tashan is all style  but little substance  not that it doesn  t have the usual star power  but scenes felt forced  and some bordered on a tad ridiculous  even for bollywood standards i must say  which is quite surprising given that tashan is directed and written by vijay krishna acharya  who wrote dhoom and dhoom   both of which i enjoyed tremendously   br    br   in his rookie directorial outing with tashan  while you can  t fault his direction  you  d probably scratch your head over the plot  which was clunky at best  it tried to force too many things into the story  though credit be given where it allowed you some avenue to question character motivation  but that came a little too late  and only toward the finale  which left you guessing for just a moment before it latched into full blown action mimicking many a thai action movie  with hong kong  s wirework and hollywood  s ludicrous firearms and gunplay with zero recoil  and in a bid to include everything including the kitchen sink  you have an assortment of vehicles appearing  and the one that took the cake  in a dhoom  homage  was the jetski boat in the middle of nowhere   br    br   at best  tashan can be enjoyed as unintentional comedy  and this is attributed to how the cast hammed up with their characters  saif ali khan plays jimmy cliff  a call center executive who gives english tuition  only as a platform for fishing out new girlfriend material  his playboy ways gets junked aside when he meets with pooja singh  kareena kapoor   who  s not exactly who she seems  the meek and sweet natured hottie  she engages jimmy  s services for her boss  mobster bhaiyyaji  anil kapoor   who probably gets most of the laughs as he speaks broken english and phrases must like how an ah  beng does it  and to complete the quartet  akshay kumar plays bachchan pandey  an illiterate gangster for hire who got engaged by bhaiyyaji to hunt down jimmy and pooja when they escape with money stolen from bahiyyaji  s business   br    br   so begins a road trip of sorts  with friends who turned enemies  and enemies whom you know will become friends as the road trip wears on  jimmy cliff is probably the most implausible of all  because he goes from zero to hero  executing moves that would shame rambo  in absolutely no time  which is quite out of character  kareena kapoor amps up the sex factor as she uses her charms to guile both men  and has plenty of opportunity to do so given the much touted bikini scenes  and other costumes that boast of plunging necklines or hemlines way above the knee  every character has a backstory created  and i thought akshay kumar  s bachchan pandey was probably the best  the most touching and the most fun of the lot  even though his character seemed a lot like a non  green incredible hulk with his gravity  defying leaps and power packing punches  his wounds also heal automatically  which impressively puts wolverine to shame  and the best part is his theme song  which is damn alpha  male and played in ra  ra mode each time he takes on adversaries   br    br   but sad to say  that  s the only tune that is memorable  something that cheers  bachchan  pandey  bachchan  pandey   for most bollywood movies i watch  i will usually be able to  despite the obvious language gaps  emerge from screenings humming a tune or two  i wasn  t able to do that after tashan  because the songs unfortunately just weren  t catchy at all  usually the song  dance routine works well into the storyline without any necessity to bring the characters out of the current scene or location  that i enjoy  versus plucking them out and plonking them into extreme settings high atop a mountain  or atop jagged rocks on the beach front   br    br   tashan probably didn  t take itself too seriously  but coming from vijay krishna acharya  s story  you probably wanted something a little more decent rather than the ridiculous  and for continuity to be a little more careful as well  billed as a blockbuster  now i can start to understand why the crowds have already shunned this one  despite akshay kumr stealing the show  tashan could have been better on the whole   ', 'after seeing several movies of villaronga  i had a pretty clear opinion about him   he concentrates too much on the personal aspect of the characters  forgetting about a rhythm of the movie  that is why  though having good critics  his movies never caught the broad audience attention  in aro he follows the same line  but really improved on the rhythm  especially in the end of the movie  frankly speaking  i slept through the first part  cause though the first part gives necessary information  it is really slow  nevertheless the second part is absolutely marvelous and makes the whole movie the best movie ever made by villaronga   br    br   recommended   ', 'shame on yash raj films and aditya chopra who seems to have lost their intelligence over the years and providing steady fare of tripe in this piece of cinematic crap thats not even worth you tube standards  i was gritting my teeth throughout the whole flick start to finish with the schizophrenic direction  plot line that never quite materialized and on the last scene i just felt ashamed that my country and its crorepati film makers can  throw away  crores on such stupidity  shame on the actors for taking this work and even commenting on it as some piece of work they can own up to  saif ali khan  completely disappointed in your choice of film  kareen shows enough skin for the puberty stricken and akshay comes up as the dim  wit  anil another retard with a pubescent fascination for english  his cronies were commendable in their acting and with the bizarre cinematography scattered in the last   minutes  it was enough to pop a blood vessel  don  t waste any brain cells  energy or your money to go see this  go see  rent amu  with konkana sensharma instead  a beautiful piece of independent film thats ever come out of india  intelligent  poignant and a wonderful story  tale that will touch everyone with intelligent actors and gave me hope that all is not lost in indian cinema making   ', 'there  s so many things to fall for in aro tolbukhin  en la mente del asesino  inside the killer  s mind   that it  s very hard to talk about it without giving any kind of warning  let  s just say that this movie is like an exercise in cinema but really  really great done  its made with super   black and white shots    milimeters  color  interviews  flashbacks  aro tolbukhin its like a movie made a documental or viceversa  which most peculiar aspect relays on the doubt that leaves you wondering  did he really ever existed  the movie follows the later life of an hungarian sailor that arrived in guatemala  worked in a religious mission and then killed some people  an act for which he got caught and death penalty sentenced  the movie starts because some french documentalists got interested in this character so they interview him prior to his death  nowadays  some more people got involved and make a deeper research of the character  the one we are witness of  the movie   br    br   for the main part in the history we are guided by a semi slow phase to go look inside aros mind  mainly in order to decode why he did what he has done  nevertheless  the important thing is that the filmmakers never gives us a sided point of view they left the judging for all of us and even as we may understand his actions  we clearly never justify them  so  the first half is based upon recollecting information later things turn into aro  s childhood  giving the movie such an incredible new force  even tough never got weak or boring    br    br   i don  t mean  and don  t want  to spoil anything so the only thing left to say is that if by any chance you get this movie near you  believe me  the trip to see it is more than worthy   ', 'first lesson that some film makers  particularly those inspired by hollywood  need to know  just  style  does not sell  i guess tashan when translated will mean style  second  if you are hell bent on selling style  that does not spare you from having a decent story   br    br   tashan has some story which could have sufficed with some better director  but it is not slick  for example  all three  saif  kareena and akshay  are narrators at different points in the story  but this setup is not utilized to properly  there could have been a better mix and match of their narrations  actions sequences are from the seventies   br    br   cheoreography of the film is awful  i think vaibhavi merchant just sleep walked through this film  vishal  shekhar have put up a good score but it does not belong to this film  why is there a sufi song  dil haara  in tashan  why is the cool hinglish song  dil dance maare  not on anil kapoor when he is the one who is english crazy   br    br   akshay kumar is the saving grace of the film  but he is in his stereotyped self  you won  t mind missing this film   ', 'this has got to be a unique twists of two genres of ever seen  the giant monster movie genre with the living mummy movie genre  this unique blend makes for a unique and compelling story  the casts is outstanding  including tom bosley who as far as i know never has been in a horror movie before  ever  the effects are impressive and the idea of a giant mummy filled with smaller mummies is a cool one  my one complaint  i just wish we saw more of the giant mummy  but other then that i think they did a great job  the dialog  the characters and the story was perfect  the acting was wonderful  this has got to be the best movie to come out of the sci  fi channel  you heard me  the best movie to come out of the sci  fi channel  i give the fallen ones  out of     ', 'if this is a     product from one of the biggest production houses of indian film industry  yash raj  then i am afraid it is a very long ahead for us to reach the right standards   br    br   if you can go wrong to this length with such an enormous star cast of anil  akshay  saif and kareena  then movie making is still to be studied much harder by everyone associated with this film  the film lacks in almost all departments except cinematography and akshay kumar  he has a few good dialogues to render but that alone cannot make you enjoy a flick with huge expectations   br    br   the first scene of a car going down into a river from the mountain has very cheap graphics like that of a cartoon film  that itself was a clear indicator of the director  s vision  every actor who otherwise is an asset to a movie is simply wasted  anil kapoor  s gimmick of attempting good english falls flat most of the times  and saif will surely hit himself thinking why he signed this movie   br    br   in short it  s the biggest waste of resourses after  jhoom barabar jhoom   i would say that even  aaja nachle  was a better enjoyable movie than this   br    br   one cannot understand how and why this kind of script was written and approved  the most unwanted was the flashback sequence of akshay  s love story  after the faulty script the weakest point of the movie is its music  vishal shekhar have given just some filler tunes to each song  the songs start off very well and suddenly the tunes drop drastically  only one song  falak tak chal  is somehow good of all in the lot  an opportunity wasted by vishal shekhar   br    br   regarding the continuity intelligence of the makers just sample this  akshay and saif are on the road in the hilly area of a foreign location  probably ladakh   in the next scene they are searching for kareena in haridwar and then back in the hills with kareena in the dicky of their car  i am still thinking who wrote this   br    br   if you manage to sit till the last then the climax is too long with silly and unnecessary stunts  you can see all the heroes walking through the storm of bullets not hurt as if they are god  are we still seeing a     movie with all these technical heights achieved  so no more words on this pathetic and downgrade movie but a sincere request to senior actors from their fan   br    br   dear anil kapoor  akshay kumar  if possible please ask for a preview of your movies after their first copy is out  as artists of such stature  you have certain responsibilities towards your fans and viewers  people still clap for you as you enter the screen in your first scenes respectively  i think this kind of movie should not see the daylight as it hampers the reputation of all associated with the movie  the actors and the production house both   ', 'without kirsten miller this project needn  t have been completed  however with the awe inspiring beauty and talent that is miss miller i would definitely recommend it  it looked as if the other actors were only playing to her strong performance  wagner  s dismal attempt to honor this film was a bit disappointing  but his few scenes didn  t detract from being entertained  mostly my criticisms are with the writing and plot line  the group of talent assembled did a heroic job of salvaging what should have been a disaster  the charismatic miller delivery and timing were impeccable and believable  she plays that fine line between assertive and bossy but never offensive she is in fact the structural engineer she claims to be  i wish i had seen this on the big screen but alas i was fortunate to rent it before it was lost   ', 'i had some expectation for the movie  since it had a nice star cast and it is the return of the duo of akshay and saif  well  i was hesitant to watch the movie because this was done by the same man who wrote the story for dhoom franchise because i hated dhoom   but if dhoom  is compared to tashan  i would say dhoom  is very realistic   br    br   when i saw the credits at the beginning  i felt nice because it was put up in a nice way  well  the very first scene itself pised me off  then  the major drawback of the movie is the action sequences  me and my friends were laughing our guts off watching this crappy fights  it was like akshay against some   thugs and all and the thugs even got machine guns  phew    you got to see this to understand how bad the action sequences are   br    br   the other thing about the movie is the far too predictable story  it reminded me of some of the early    s movies   br    br   well  the only thing the movie is worth is of sexy kareena  who looked really hot in this one  and for that  i give a rating of  out of     br    br   guys  please   please    don  t see this one thinking that it is a real gangster movie  well  you can watch this to have some laughs at the terrible fight scenes   br    br   thats all   ', 'sure  titanic was a good movie  the first time you see it  but you really should see it a second time and your opinion of the film will definetly change  the first time you see the movie you see the underlying love  story and think ooh  how romantic  the second time  and i am not the only one to think this  it is just annoying and you just sit there watching the movie thinking  when is this dn ship going to sink    and even this is not as impressive when you see it several times  the acting in this film is not bad  but definetly not great either  was i glad dicaprio did not win an oscar for that film  i mean who does he think he is  anthony hopkins or denzel washington  he does  half  good movie and won  t do a film for less than    million  and then everyone is suprised that there are hardly any films with him in it  but enough about  in my eyes  the worst character of the film  kate winslet  s performance on the other hand was wonderful  i also tink that the director is very talented to put a film of such a magnitude together  there is one lesson to be learned about this movie there are too many love  stories as it is  filmmakers shouldn  t try to add a crummy romance in to every single movie    out of a possible     i give this film a mere      ', 'the action in this movie beats sunny bhai in gadar  akshay kumar possess the superpowers of leonidus in     neo in matrix along with spiderman and superman  it is hilarious  except for the typical akshay kumar and anil kapoor comedy i cannot see anything positive in this film  the story looks like the writer told his   yr old son to write  the movie is so unreal that anil kapoors long range shooting with a shotgun is the least most mistake by the director  except for the directors tashan to make this movie there is no other tashan  i regret wasting my money on this movie and i would not recommend it to anybody      is the least i can give on imdb or i would give it a zero   ', 'when i saw this movie i was stunned by what a great movie it was  this is the only movie i think i would ever give a   star rating  i am sure this movie will always be in my top    br    br   the acting is superb  leonardo dicaprio and kate winslett are at their best  i don  t think anyone could have a better job than kate   br    br   if it is a rainy day and you can  t decide what to rent  well  this is the one  you will love all the acting  special effects  and much much more   br    br   if you have not seen this movie go rent or buy it now    you won  t regret it   br    br    ', 'i had a lot of expectations from this movie and more so since it was a yashraj film   br    br   jimmy operates a call centre and one day he is invited by pooja singh to teach her boss  lakhan singh  english  the two fall in love and decide to run away but pooja tells jimmy that she can  t do this as she owes a debt to lakhan singh  who is also known as bhaiyyaji  but they decide and steal money from him and its only then that jimmy finds out that bhaiyyaji  lakhan singh is a don  in the meantime  bhaiyyaji hires a man  bachchan pandey  to track down jimmy and pooja   br    br   starring saif ali khan  kareena kapoor  anil kapoor and akshaye kumar  the movie is directed by first time director viay krishna acharya and is produced by both aditya chopra and yash chopra   br    br    tashan  has to be one of the worse films that i have ever watched  yes  the scenery is good and kareena kapoor  and her much publicised weight loss  looks good  but plot is extremely thin on story and at times makes no sense from one scene to the other  hence why i have said at the beginning that i had expected more from this film as it was a yashraj production  with reference to songs  unfortunately  there is not one song that i can remember now   br    br   there are moments where one can laugh and that is mainly thanks to akshaye kumar and saif could have definitely done better while kareena kapoor played her part well  but this cannot be said for anil kapoor  it did not suit him at all as a villain  lastly  never mind aditya chopra  who in the past has produced and directed good films such as  mohabbatein   what was yash chopra doing by producing such a trash movie   br    br   conclusion bad movie  not worth wasting your time and that is my first and last impression   ', 'why do people bitch about this movie and not about awful movies like the godfather  titanic is the greatest movie of the   st century  with great acting  directing  effects  music and generally everything  this movie is always dumped by all because one day some one said they didn  t like it any more so most of the world decided to agree  there is nothing wrong with this movie  all i can say is that this movie  not only being the most heavily oscar awarded movie of all time  the most money ever made ever and sadly one of the most underrated movies i  ve ever seen  apart from that it is truly the best movie of all time  the only movies that come close to being like all the star wars and the lord of the rings trilogy or anything by the masters hitchcock or spielberg or tim burton  these are all good movies and directors but none match up to james cameron  s masterpiece titanic   ', 'i had no idea what the film is about before i saw it because tashan only had teaser trailers while it was being promoted  so i asked my friends if they knew anything about it and they said that  it is the directorial debut of vijay krishna acharya who wrote the screenplays for dhoom    and saif ali khan  s son ibrahim makes his debut in the film by playing him as a child in his flashback    br    br   after watching it  i understood that why their wasn  t a proper trailer because there wasn  t anything in the film to show  the story was extremely dum and even a   year old child can come up with a better story  line  there was hardly any action and the camera shook at every possible angle there is and it  s difficult to figure out that who is killing who  also the action was daft  unrealistic e  g   man with a handgun managed to kill about    men with machine guns   br    br   while i was watching tashan it reminded me of  films  br    br   sin city during the opening credits   br    br   koyla anil kapoor  s terrible english like amrish puri in koyla   br    br   jhoom barabar jhoom the outrageously ridiculous jokes that are not even a jot funny   br    br   i also heard the budget is   crores which is the same amount as dhoom  and i don  t know where all the money went to  anyway if you did not like dhoom  then there is absolutely no chance that you will like tashan  race was hot on heels and that is a million times better   br    br   the only  good songs are dil haara  challiya and both songs are shot in greece at good locations but what is the use of it in a rubbish film  even anil kapoor  s terrible english couldn  t save this discomfiture   ', 'just two comments     seven years apart  hardly evidence of the film  s relentless pulling  power  as has been mentioned  the low  budget telemovie status of   gantry row is a mitigating factor in its limited appeal  having said that however the thing is not without merit  either as entertainment or as a fright outing per se   br    br   true  the plot at its most basic is a re  working of the amityville horror  only without much horror  more a case of intrigue  gibney might have made a more worthwhile impression if she had played halifax  investigating a couple of seemingly unconnected murders with the  house  as the main suspect  the script is better than average and the production overall of a high standard  it just fails to engage the viewer particularly at key moments   br    br   having picked the dvd up for a mere      last week at my regular video store  i cannot begrudge the expenditure        would be an acceptable price for the film  just don  t expect fireworks   ', 'i don  t want to go too far into detail  because i can  t really justify wasting much time on reviewing this film  but i had to give an alternate opinion to hopefully help people avoid the movie  the animation is crud and the story alternates between boring  pointless to extremely irritating  the humor was completely lost on the audience  and yes  ghost in the shell fans  this is not an action sci  fi or anything like that  its an attempt at slapstick comedy  and the humor just did not work after being translated  it was a total chore to watch this movie  and horrible way for me to kick off the film fest  especially considering how excited i was and how open i was for anything  i wasn  t expecting a ghost in the shell sequel  but i was expecting something entertaining  and it simply didn  t achieve this  yaaawwnnn    rent kino  s journey instead   ', 'what  s inexplicable  firstly  the hatred towards this movie  it may not be the greatest movie of all time  but gimme a break  it got   oscars for a reason  it made eighteen hundred million dollars for a reason  it  s a damn good movie  which brings to the other inexplicable aspect of it  i have no idea whatsoever why this movie left such an impression on me when i saw it in theaters  i  ve rewatched it on tv and video  and it had none of the impact it had when i saw it on the big screen  twice  or maybe three times  actually   but that might be it  the appeal of it  it  s a movie  yes  capital m there  it  s an epic  it  s a spectacle in the order of gone with the wind or ben hur  now  ben hur and gone with the wind seem kinda hokey to me  with the hammy acting and excessive melodrama  not that titanic has none of that  well  the acting was actually very good  the melodrama was quite heavy  handed at times   br    br   but the reason titanic works is that it  s such an emotional ride  i usually enjoy movies that stimulate the mind  or give me a visual thrill  this movie isn  t exactly dumb  but it  s not cerebral at all  the visual thrills are simply means to an end  to fuel the emotions of the audience  i didn  t cry when bambi  s mom died  i don  t react to tearjerkers  but this is a tearjerker to the power of ten million  an emotional rollercoaster that  if it were a regular one  would make buzz aldrin scream like a little girl  and i  m sure that if you see it on video and have decided that you hate it  and have a ready supply of cynicism  then you can thoroughly dislike this movie  but if you let that disbelief suspend just a bit  if you give this epic melodrama the benefit of the doubt  you  ll enjoy it completely  and look at the top ten grossing films of all time  is a single one of them bad  is a single one of them worth a score of  out of    no  not even the phantom menace  and this movie made    billion dollars worldwide  it can  t be bad  not possible         br    br   p  s  how can anyone even consider comparing this to spiderman  spiderman was a fun movie  but it was a total     kneejerk that caused it to gross as much as it did  it simply wasn  t anything all that special  no one will remember it in   years  but i  m pretty sure titanic will be remembered   ', 'tashan  the title itself explains the nature of the movie   br    br   this type of movies are actually made for flop  what a shame that yash raj films produces such movies those are worthless than c  grade movies  or even some c  grade movies have better and pleasing story than tashan  the much hyped and over  confidently promoted tashan poorly bombed at the box  office which it certainly deserved   br    br   in my view  this is the worst movie ever made from honourable yash raj films  banner  how come they handled such a heavy project to new vijay krishna acharya who has no actual sense of making action flick  he tried to imitate sanjay gadhvi  s ways of making like dhoom but he suffered at last  the action scenes are more like than comics or cartoon movies made for exhausting the audiences   br    br   the story also loses in its meaning and substances to tenderly win the audiences  hearts  in most scenes anil kapoor reminds me of southern tamil star rajnikant in his body languages and wordly expressions  i am not a fan of neither saif nor akshay  but the award of kareena should have finally gone to saif   s hand instead of akshay  just from the starting point i expected of it  but at the end it displeased me with the climax truth  saif is the main behind the whole adventure  while akshay joins in the midst  in any movie  the final should be judged with the whole characters of the entire story and the award or say reward should be given to the one who deserves credit  and tashan loses in this way  and unexpectedly failed to become a hit   br    br   akshay  s has nothing new to show off his comedian talent here but still reminds of his previous movies  he seriously need to form a new image to his fans that would impress them again and again  in between saif did a great job in race  and now he returned again in his hilarious nature through this movie  but he has fully developed himself in the acting field  and last but not the least about kareena  she looks really hot with bikini dress of which some complain as she became too lean  but i myself don  t think so  instead she became slim  yes slim    it is a good factor for a female to attract the major people  or say  male   beside them it is nice that saif  s son ibrahim appears in the beginning  last as young saif  i hope now he too will lean forward in target of making acting as his career   br    br   those who like this tashan they are either mentally immatured or still want to go back to childhood  or say want to be admitted in an asylum  thumbs down to debutante director vijay krishna acharya who mishandled the project offered by yash raj films  in future he should experiment and study the script minimum of  years before going into practical directions   br    br   sorry  i don  t like to rate good stars to this type of junk movies   ', 'previously  i wrote that i loved  titanic   cried at its ending  many times over   and i  m a guy in his    s  i also wondered about why this great movie  which won so many awards and was applauded by so many critics  was given only a    rating by imdb  com users   br    br   well  i looked at the breakdown of the user ratings  while      of all votes gave it a   rating       gave it a  rating  these      of these irrational imdb users  in effect  pulled the overall rating down to      br    br   in my previous comments  i blamed this very unusual voting pattern  a sudden surge in  ratings  with a high   rating  dropping only gradually and then suddenly reversing course and jumping at the  rating level  on only one thing hatred for leonardo dicaprio  believe me  i  ve tuned into enough chat rooms to see the banter by young people  young men  mostly   who defame him left and right  they absolutely hate the man  and they will have no part in giving him any credit in  titanic    to answer one other user i am not talking about someone who just really doesn  t like the movie that much  and gave it a  or a   etc  everyone has  and is entitled to  his  her own taste  but no one can convince me that the imdb rating of only    overall for  titanic   pulled to that level by an inordinate number of ridiculous  ratings  is a fair reflection of the overall motion picture    br    br   let me demonstrate my point by comparing the imdb user voting pattern of  titanic  to  randomly chosen box office and critical  bombs   there are many more  but these  will prove my point    heaven  s gate        was pulled from the theaters quickly after a very poor box office showing  and imdb voters  ratings were        ratings and      ratings  overall rating of       big top pee  wee        got       ratings and      ratings  overall rating of       cat people        got       ratings and      ratings  overall rating of       blind date        got       ratings and      ratings  overall rating of       jumpin  jack flash        got       ratings and      ratings  overall rating of      what do all of these films have in common with  titanic   all of the percentages of their  ratings are lower     than  titanic   and none of these stinkers ever was nominated for a single award  again   titanic  got       ratings  compare that to the other  movies i just mentioned   br    br   can there be any explanation other than the hatred of leo factor   br    br    ', 'i just saw the movie in theater  the movie has very few good points to talk about  kareena  s beauty and a couple of songs may be  thats it  the movie is a complete disappointment in all areas  anyone associated with the movie will be disappointed  even mumbai indians too  just now chennai has made it to semi  final    br    br   but the worst i feel about the movie is the action scenes  now days bollywood is trying to copy action scenes from hollywood  but they forget that hollywood directors takes a lot effect to make it look like real  but unfortunately bollywood directors do not have that much of time  they spend their time on songs and publicity of the movie  now such too stupid action scenes may work in south as the audience just pay to watch their favorite actor killing bunch of people  but in bollywood this is certainly not going to work  all the action scenes i wish i could have forwarded  at the end even some chinese people appear from nowhere to beat akshay kumar  this is height of stupidity  audience is not paying to watch such stupidity  i think bollywood now should forget about the action movies  they cant make it  the last good action i have seen was from  ghatak  and  khiladiyon ka khialdi   the current scene in bollywood is really sad for action movie fans like me  does these people see their movie after completion  can  t they figure out that the slow motion action  which is done using ropes  is too unrealistic and childish  better not to have action scenes if you cant handle it  i just want to go back to amitabh  s era where movie like zanjeer and deewar were having thrilling action scenes  the sound effect was not very effective in those days  but visually it is much better than current era scenes   br    br   this movie now should open the eyes of the bollywood movie directors  please don  t make any more action movies  until you acquire the art of making it realistic   ', 'i loved this movie since i was  and i saw it on the opening day  it was so touching and beautiful  i strongly recommend seeing for all  it  s a movie to watch with your family by far   br    br   my mpaa rating pg    for thematic elements  prolonged scenes of disastor  nudity  sexuality and some language   ', 'the storyline was okay  akshay kumar was good as always and that was the only good thing about the movie  kareena kapoor looked bad  there was so hue and cry over her size zero but she did not looked good leaner  i don  t know why the hell did anil kapoor accepted such a bad role  there was nothing much to do for him in the movie  just because it is a yashraj film does not means that an actor should accept the role however bad it is  said ali khan was alright  i think that it is high time that indian directors and producers start thinking of indian customers as intelligent lot  what are we  fools     what do they think  they will show  men taking on a swat squad to teeters and we will believe them  is the indian police so stupid that they are trying to nab some criminals     they take an entire squad of     policemen and no one was there to surround the palace  the action was crap and i have never seen such bad action  akshay kumar was between a circle of      policemen all shooting at him      and he shooting back at them  none of the policemen  s bullet touched him but he killed all the policemen  crap  crap   br    br   i think the fight director who thought of this scene should take retirement   br    br   i strongly recommend not to see this movie   ', 'the movie titanic makes it much more then just a  night to remember   it re writes a tragic history event that will always be talked about and will never been forgotten  why so criticised  i have no idea  could  will they ever make a movie like titanic that is so moving and touching every time you watch it  could they ever replace such an epic masterpiece  it will be almost impossible   br    br   the director no doubt had the major impact on the film  a simple disaster film  boring to watch  converted to an unbelievable romance  yes i  m not the romance type either  but that should not bother you  because you will never see a romance like this  guaranteed  everything to the amazing effects  to the music  to the sublime acting   br    br   the movie creates an amazing visual and a wonderful feeling  everything looks very real and live  the legend herself  titanic  is shown brilliantly in all classes  too looks  too accommodation  the acting was the real effect  dicaprio and winslet are simply the best at playing there roles  no one could have done better  they are partly the reason why the film is so great   br    br   i guess it  s not too much to talk about  the plot is simple  the acting is brilliant  based on a true story  probably more then half of the consumers that watch the film will share tears  thanks to un imaginable ending which can never be forgotten  well if you haven  t seen this film your missing out on something hesterical  and a film to idolise for hollywood  could it get better  no  not at all  the most moving film of all time  don  t listen to people  see for yourself then you will understand  a landmark   don  t be surprised if you cry too   ', 'i was very displeased with this move  everything was terrible from the start  the comedy was unhumorous  the action overdone  the songs unmelodious  even the storyline was weightless  from a writer who has written successful scripts like guru and dhoom  i had high expectations  the actors worked way too hard and did not help the film at all  of course  kareena rocked the screen in a bikini but for two seconds  i think hindi stunt directors should research how action movies are done  they tend to exaggerate way too much  in chinese films  this style works because that is their signature piece  but  hindi cinema  s signature are the songs  a good action movie should last no more than two hours and cannot look unrealistic  but  in the future  i  m sure these action movies will get much sharper  also to be noted comedy and action films do not mix unless done properly  good luck next time   ', 'i had few problems with this film  and i have heard a lot of criticisms saying it is overlong and overrated  true  it is over three hours long  but i was amazed that it goes by so quickly  i don  t think it is overrated at all  i think the imdb rating is perfectly decent  the film looks sumptuous  with gorgeous costumes and excellent effects  and the direction from james cameron rarely slips from focus  leonardo dicaprio gives one of his best performances as jack  and kate winslet is lovely as rose  david warner  a great actor  steals every scene he  s in  the story is very rich in detail  and is hot on character development  obvious with the love story which is very moving when it needs to be  though in the first bit of the movie it is a little slow  the last hour is extremely riveting  and i will confess that i was on the edge of my seat  when the titanic sank  i will also say that the last five minutes were very moving  the music score by james horner was lovely  though i never was a huge fan of the song my heart will go on  the     miniseries was good  but suffered from undeveloped scenarios and some historical inaccuracies  overall  i give titanic an        bethany cox   ', 'if there is one film which is the worst of this year  it  s tashan the first promo gave an indication that the film will be a boring dhoom  style film  and well i knew first only it would be a bad film whatever it maybe because of it being a yashraj film or maybe seeing the cheesy promo but this film gave me a shock  it was even worst then dhoom  and what i expected first saif  s introduction which is boring then saif  kareena meet  kareena is so artificial and then anil kapoor oh god  what he is doing in such a weird film  what kinda role it is  what acting is he doing  his first scene is alright but then his act gets repetitive and he overacts then came akshay who provided some nice scenes  but then the film became more boring and with all the outdated stuff childhood romance  overdose of childish rajnikant style action scenes and all boring scenes the ending is another joke  br    br   vijay krishna acharya would have got  films more to direct  if this film had worked  thats the strategy of yashraj  only money nothing else so vijay is another addition to their list of crap filmmakers music  vishal shekhar  is ordinary  br    br   performances akshay kumar comes in the film as a whiff of fresh air  he actually provides some engaging moments saif ali khan is irritating  kareena is equally bad anil kapoor hams outrageously and spoils the show even more rest are okay  ', 'i think james cameron might be becoming my favorite director because this is my second review of his movies  anyway  everyone remembers the rms titanic  it was big  fast  and  unsinkable     until april      it was all over the news and one of the biggest tragedies ever  well james cameron decided to make a movie out of it but star two fictional characters to be in the spotlight instead of the ship  well  onto the main review but let me remind you that this is all opinion and zero fact and the only fact that will be present is an event from the film   br    br   so our two main characters are jack  leonardo dicaprio  and rose  kate winslet   they  re not annoying too much but watch this and you  ll find out why they could become annoying  http   tinyurl  com  ojhoyn   the main villain i guess is bad luck  fate  hand of god  no blasphemy intended   or just plain caledon hockley  billy zane   combine all of the above and what do you get   oh yes  we get a love story on a sinking boat  the supporting characters are the following my personal favorite  mr  andrews  victor garber   idk he was so nice   lovejoy  david warner   murdoch  ewan stewart   lightoller  jonathan phillips   captain smith  bernard hill   molly brown  kathy bates   and many more  we also got the present day treasure hunter  brock lovett  bill paxton   they add something to the story  something good  the action in here is awesome  especially in the second half  the drama as also good  in the end you can have your eyes dropping rainstorms or silent tears  the story is simple and it works  a treasure hunter seeks the heart of the ocean and instead finds a drawing of a woman wearing the said diamond  she calls and tells her tale on the rms titanic  two lovers separated by social class and ultimately  the fate of the ship  everything about the story works and there are very few flaws  i give titanic  an    awesome  ', 'absolutely awful movie  utter waste of time   br    br   background music is so loud that you cannot understand speech  well if you really listen closely  whatever they speak is actually unintelligible   br    br   camera work is bad  editing is not present  background score gives a headache  action is shoddy  dialogs are unintelligible  acting is abysmal and well kareena used to look like a wrestler  now she looks like a starved wrestler  hell you can slim down but you cannot gain grace   br    br   after spending three hours watching a movie i want to like it  but this movie would not even allow me that pleasure   br    br   please if you want to torture yourself  go ahead watch this   ', 'titanic is a long but well made tragic adventure love story that takes place during the ill  fated voyage on the unsinkable ship  writer  director james cameron has done a great job of making this movie about a fictional love story between two very different people and combining that with the real event of the titanic that sunk after hitting an iceberg on april        claiming thousands of lives who perished in the icy freeing waters of the north atlantic  the two leads in the film are great in their roles including leonardo dicaprio and kate winslet  they make for a good on  screen couple  dicpario and winslet also had genuine chemistry together which made the romance that eventually blossoms between them that much more believable  they both showed real talent when this one came out and both of them have continued to show just that in their most recently films as well  the rest of the supporting cast including billy zane  kathy bates  frances fisher  jonathan hyde  and bill paxton in a small role are equally impressive as their characters who help bring them to life in this film  the love story  the action  suspense  and the special effects are magnificent done especially for that time  the horror of the situation the characters were in felt so real because it really happened making you want most of them to survive this life and death situation  the pacing was a little slow at times and it was a little long but the rest of the movie made up for it  s few flaws  titanic makes for a great date movie which is sure to make some girls cry almost every time they watch it  the fact that this really happened definitely added to the movie making you feel sorry for all the lives lost when the titanic sunk into the atlantic after hitting an iceberg  overall titanic is a tragic heartbreaking story about two people who fall in love while on the ill  fated ship thats brought to life by the exceptional performances from the cast especially dicaprio and winslet who definitely make this movie worth the time to watch   ', 'sometime i fail to understand what do the directors think when they make a movie    i had had a trauma after watching welcome       and thought that they wont do it again  but after loads of amazing promos  tashan finally ended as heart attack   br    br   such amazing  songs in promo  dil haara  chhaliya and tashan mein      and what u get in the movie  zero story  predictable plot  plenty of akshay kumar stunts and nothing interesting apart from watching kareena after her major weight loss        br    br   music  wise another major disaster    in the music album  they have spent time on giving pathetic small dialogs of these  jokers and they haven  t thought of giving the background song of the scenes when akshay kumar is doing stunts     that song is such nice  quite comparable to tashan mein and that is not taken in the music album       if you plan to watch this movie  i would say  watch it to listen to that background song which goes something like     bachchan bachchan pandey      br    br   overall very disappointed even with the way bhaiyyaji has made attempt to speak bad english   br    br   go away man  i need to puke   ', 'the ship may have sunk but the movie didn  t    director  james cameron  from  the terminator  did it again with this amazing picture  one of my favorite scenes is  the dinner table  scene  in which rose  s family and friends meet jack after he saves her  rose has a look on her face that every woman should have when you meet  the one     i hope i have that look when i am in the room with my future husband   br    br   jack and rose have a connection that is  movie stuff  but it  s good movie stuff  we have the greedy mom and all her elite stuck up associates who live off of their husbands wealth  rose almost commits suicide but the gilbert grape star rescues her  i really liked the hanging over the boat scene  it was a good risk   br    br   the movie is long but it  s fantastic    good story  good flow  good actors    go see it twice if you want  its worth it     ', 'i had never thought the standard of yashraj films would ever degrade to such an extent  the film has a nonsense storyline which catches no interest   br    br   saif has over acted  kareena has improved her figure  but is not a good actress anyway  akshay is good  anil is also good  may i say the role wasn  t good    br    br   great deal of cheapness is filled in  wondered if that was supposed to be the  comedy part  of the movie  just because last few movies were flops does that mean yashraj films should make this kind of rubbish  it has a history of so many good films   br    br   overall  i was totally disappointed with the movie   ', 'titanic has to be one of my all  time favorite movies  it has its problems  what movies don  t  but still  it  s enjoyable   br    br   when i stumble across someone who asks me why i like titanic  i suppose my first reaction is  wait a minute  you don  t   i know so many people who don  t like this movie  and i  m not saying i don  t see why   the love story is too cheesy  well  yes but isn  t it enjoyable and moving  all right  the love story between jack and rose is very unrealistic  everyone knows that love like this doesn  t actually exist  but this is a movie  doesn  t everyone enjoy watching a beautiful story that lets us slip slightly into fantasy for a while  the next complaint  dicaprio and winslet are terrible actors  well  ok  in this movie  i agree that they do not perform to their full potentials  however i think it  s unfair to say that they are terrible actors  i personally think they are both very talented actors who unfortunately are very famous for a movie that they are not amazing in  but the roles they are given are simple  and the characters seem real enough that you can care about them quite a bit  but i agree with many people that they did not do as well as could have been expected   br    br   and finally  if one is going to complain that they don  t like this movie because they hate romance  or because they hate history  or tragic movies  then i  m sorry but why on earth did they go and see a movie that is so clearly all of these things  it  s like people who complain the dark knight is a bad movie because they hate action movies  simply for being a movie  not because you dislike the genre  this is a good movie   br    br   well deserving of its oscars  in particular  best cinematography  which i find to be the best i  ve ever seen in a movie save maybe the lord of the rings trilogy   br    br   i know some of the writing fails  such as the constant screaming of each other  s names throughout the movie  the flashback portion of the story can be quite weak at times  but overall it  s an amazing achievement in making the titanic look so real  and the sinking feel so epic   br    br   i understand why a lot of people dislike this movie  but for the most part it boils down to them disliking the fundamental idea  such as it being a love story  rather than them thinking the movie in and of itself is poorly constructed   br    br   i can tell you that i have read more than five books about the titanic  including memoirs form the day it happened  and this movie is extremely historically accurate save just a few faults  the only main ones i can find is that the piping should be threaded copper  not steel  and the iceberg looks fairly unrealistic as is the scene where they hit it   br    br   i give this movie       not because i like romance movies  but simply because it  s an outstanding cinematic achievement  that leaves one feeling horrified by the realistic adaptation of events   ', 'the film lacks style  i mean original style  everything looks copied including action  first appearances in the movie  songs  dialog delivery  etc etc  yes  there the goof  ups were original  like in the beginning a car is shown with number up number and few seconds later it starts falling down a hill with number mh  that was one in many goof  ups of the movie   anything good in the movie  yes  for kareena fans  if there are any  kareena in bikini  for akshay fans  his dialogs and action stunts  thats it  nothing else  so watch it on your own risk and don  t blame the director or actors  director is already insane and actors  i pity them   ', 'titanic is a classic  i was really surprised that this movie didn  t have a solid ten  overall in the imdb user rankings  maybe  it  s just cool to not give titanic credit nowadays  but when it was first made it was really something  when the movie came out people flocked to the theaters  when it came out on video my sister and i would watch it twice a day for a month  it was safe to say we were obsessed and for good reason  some of the disaster scenes were hard to forgot  like the frozen baby  or the guy who committed suicide after killing someone in the unruly crowd  many people died on that ship  and to convey that on film with the immediacy and emotion it needed is a hard challenge that james cameron stepped up to  and let  s not forget the amazing romance between jack and rose  whether or not their relationship was a figment of someone  s imagination it was lovely  they barely knew each other  but they would die for each other  they trusted each other  they sure as hell are giving romeo and juliet a run for their money   i  ll never let go  jack   titanic is a great film down to it  s very core  it is a powerful story told through brilliant acting  excellent cinematography  beautiful music  and a crew full of hard and dedicated workers  it really blows my mind when someone says they hate this movie   ', 'this movie is horrible  the acting is a waste basket  no crying  no action  hopeless songs  though the scenery is great  i have always wanted to go to greece   br    br   anyway  as for saif  you  d expect a great performance  but even he let down the people   br    br   akshay kumar  recognized as the pimp of bollywood and the voice of singhs  he was sensational in this movie  for only this performance  filmfare should introduce another award  the toiletries award for the worst performance  by the way the trophy should be a toilet seat   br    br   kareena kapoor  she first of all is not comparable to her sister karisma  in acting  in looks  or in body  she now wants to prove to herself that she surpasses her  she comes into this movie wearing bikini  s and tank tops and short shorts  i really wonder why saif ali khan is letting his wife  to  be dress like that  but  she must  ve impressed some people dressing like that  and if you ask how  then consider every man is having an erection watching this movie  they are dreaming of having kareena kapoor in bed naked with a condom  including me  personally i think that she dressed like a whore  but i really liked it   br    br   i am forced to give it a      but i  d really give this movie a      an unachieved film   ', 'another aussie masterpiece  this delves into the world of the unknown and the supernatural  and it does very well  it doesn  t resort to the big special effects overkill like american flicks  it focuses more on emotional impact  a relatively simple plot that rebecca gibney  co  bring to life  it follows the story of a couple who buy an old house that was supposedly home to a very old woman who never went outside  and whose husband disappeared in mysterious circumstances a century ago  strange things begin to happen in the house  and john adam begins to turn into the man who disappeared  who was actually a mass murderer  highly recommended       ', 'ok  i am not japanese  i do know a little about japanese culture  and a little less about japanese pop culture  other than that  i am spanish  i eat paella and i like black humor   br    br   good  with that point set  i can comment on the movie i have no idea on how it is enjoyable to the japanese audiences  mamoru oshii is quite a good director  despite the overly pedantic postmodern stuff in the style of talking head  and even that was curious and somehow interesting  and i am surprised he came up with this  it may just be one of those lost  in  translation cases  i am afraid it is  but as a european viewer watching the film with subtext overloaded english subtitles i just thought it was horrible  the jokes seemed bad  the script was overcooked  i mean  give the audience a break  and shut up a little you damn narrator  to the point of almost making my head explode over an overkill of fast  paced speaking and absurd action   br    br   however  i thought the animation was really cool  the idea is great  and it is well exploited in those animated scenes  however  the eye  candy finishes as soon as the characters are left aside to start with an endless not funny at all mumbo  jumbo speech over still pictures  it just makes you want to fast forward to the next cut  out hysterical characters scene   br    br   i read mamoru oshii is actually planning on a sequel for this  the idea was good but horribly exploited  maybe the second part will bring up the good parts of this first one and actually make an interesting movie  or maybe it will be more and more over  narrated scenes  but hell  if you thought talking head was dense  amazing lifes of fast food gifters will give cause you a stroke   br    br   of course  all this comment is based on the experiences of someone who is european  probably this is totally useless to japanese people  maybe it was a really funny film lost in cultural frontiers and translation  maybe   ', 'for me personally this film goes down in my top four of all time  no exceptions  james cameron has proved himself time and time again that he is a master storyteller  through films such as aliens  the abyss and both terminators it is clear that he was a brilliant and confidant director as far as action and science  fiction goes  he sees a story and adds a strange quality to the film  but titanic is so much different to his other strokes of brilliance  the film is exceptionally moving and allows room for surprises  plot development and interesting character developments in a story that everyone knows  the story of the famed voyager sinking on her maiden voyage is legend so the challenge was for cameron to make a truthful  interesting and entertaining film about it  the acting is wonderful as leonardo dicaprio who plays jack and kate winslet who plays rose became superstars overnight with the release of this film and in most films i get annoyed when the supporting characters aren  t given a lot to do but in this film it is more purposeful because as an elderly rose  gloria stuart  tells her story it is quickly apparent that it is rose  s and jack  s story alone  no one else  emotionally it is entirely satisfying and can leave no dry eye in a theater or home  the music has become iconic and legendary  it is composer james horner  s finest soundtrack ever and evokes so much from the film and the audience  the song after so long has become annoying but i still appreciate it for the phenomenon it is and this film is  only one problem  the usual james cameron problem  is the dialogue which is memorable but in a bad way as in how cheesy it is at points but all that aside  james cameron has delivered a masterpiece and a romantic epic that sweeps you away on a journey of a lifetime  my heart won  t go on from this one   ', '    for this movie defines a new low in bollywood and has set the standard against which all cp must now be compared   br    br   first off  the beginning did have elements of style     and if handled well  could have become a cult classic  a  la pulp fiction or a desi desperado    but the plot  was there one   begins to meander and at one point completely loses it   br    br   throw in a deranged don with an obsession for english  a call center smart alec  a femme fa tale who can don a bikini and a saree with the same aplomb  a levitating  gravity defying hit  man and a cop with a hundred  or was it a thousand  black cat commandos on their trail     good ingredients in competent hands  but this is where i would like to ask the director sir  what were you smoking   br    br   im sure this movie would be remembered in the annals of bollywood film making  for what must never be done  insult the intelligence of the most brain dead of movie goers   br    br   possibly the only redeeming feature in this desi matrix plus desperado plus grindhouse caper is the music    watch the videos    hear the airplay and you wont be disappointed  vishal  shekhar come up with some eminently hummable tunes   br    br   how i wish the director had spent the money in creating some more eye candy      br    br   as i sign off  i want to really  badly know how does akshay  s bullet wound vanish in a microsecond    what were you editors doing  tashan  maybe     ', 'back in      do i remember that year clinton bans cloning research  the unfortunate death of princess diana  the marlins won the world series and a woman gave birth to septuplets  this was also the big year in the release of titanic  one of the biggest films of all time a tale about the ship of dreams  about a boy and a girl who fall in love but are torn apart by their social class and at the height of their emotional commitment the ship meets with disaster  i don  t think anybody could have expected titanic to be as huge as it was  the movie was bigger than life and had millions of fans     of them being teenage girls  i was   years old at the time  and of course saw the movie multiple times  it was the film that made me believe that the love that jack and rose shared was so real and beautiful  at the time i felt that titanic could do no wrong  of course i grew up and didn  t watch the film since i was    a couple years ago i saw the film on dvd for     and figured that it was a good price and to see what i thought about the movie now  was it worth the hype  was it really the best movie of all time  was that leonardo  s real nose  ok  i know that  s silly to say  but i did re  watch the film  being completely honest here  titanic is a great movie  best movie of all time  no  just depends on your idea of a good movie  but titanic delivered in romance  humor  disaster  emotions and never let us go on this maiden voyage   br    br   the film starts with brock lovett and his team exploring the wreck of the rms titanic  searching for a necklace set with a valuable blue diamond called the heart of the ocean  unsuccessful  they instead discover a drawing of a young woman reclining nude  wearing the heart of the ocean  dated the day the titanic sank      year  old rose dawson calvert learns of the drawing  and contacts lovett to inform him she is the woman in the drawing  she and her granddaughter elizabeth  lizzy  calvert visit lovett and his skeptical team on his salvage ship  when asked if she knew the whereabouts of the necklace  rose calvert recalls her memories aboard the titanic  revealing for the first time that she was rose dewitt bukater  in      the upper  class    year  old rose boards the ship with her fianc  cal hockley and her mother  ruth dewitt bukater  both of whom stress the importance of rose  s engagement to cal since the marriage will mean the eradication of the dewitt  bukater debts while they have the outward appearance of the upper  class  rose and her mother are financially broke  distraught and frustrated by her engagement to the controlling cal and the pressure her mother is putting on her to go through with the marriage  rose attempts suicide by jumping from the stern  before she leaps  a drifter and artist named jack dawson intervenes  jack and rose strike up a tentative friendship as she thanks him for saving her life  and he shares stories of his adventures traveling and sketching their bond deepens when they leave a stuffy first  class formal dinner of the rapport  building wealthy for a much livelier gathering of irish dance  music and beer in third  class  but after cal  s servant informs him of rose  s whereabouts   rose is forbidden from seeing jack again  however  after witnessing a woman encouraging her seven  year  old daughter to behave like a  proper lady  at tea  rose defies him and her mother  asking jack to sketch her nude and wearing only the heart of the ocean  an engagement present from cal  after a beautiful moment together in the very first backseat fun time  they go to the deck of the ship   br    br   they then witness the ship  s fatal collision with an iceberg  after overhearing the ship  s lookouts discussing how serious the collision is  rose tells jack they should warn her mother and cal  meanwhile  cal discovers rose  s nude drawing and her taunting note in his safe  so he frames jack for stealing the heart of the ocean by having lovejoy plant it in jack  s pocket  upon learning cal intends to leave jack to die below deck  rose runs away from him and her mother to rescue him  jack and rose return to the top deck  cal and jack  though enemies  both want rose safe  so they persuade her to board a lifeboat  but after realizing that she cannot leave jack  rose jumps back on the ship and reunites with jack in the ship  s first class staircase  jack and rose return to the top deck  the lifeboats have gone  and the ship finally goes down into the freezing atlantic taking jack and rose down   br    br   so does titanic live up to it  s hype  i still say that this is a great movie to watch  i think that there were and still are quite a few haters that for some reason just want to trash the movie because it had won a ton of awards and everyone was in love with the movie  but it has great acting  amazing effects  a well  written story and still looks flawless  love it or hate it  you have to admit this movie didn  t get a lot of hype just because of leo  s baby face or kate  s amazing ability to cry on sight  this film is something special  it will always hold a special place in my heart  it has too seeing that i saw this film  times in the theater when it was released  but all that aside  i do recommend this movie  it  s a great one and sure to go down in the classics one day   br    br         ', 'the sight of kareena kapoor in a two  piece bikini is about the only thing that wakes you up from your sleep while watching tashan  the mega  disappointing  mind  numbing new film at the cinemas this weekend  bad films are bad films and we see some every week  but tashan is not just a bad film  it  s a terrible film  terrible because it takes its audience for granted  terrible also because the filmmakers expect to get away without a plot or any common sense only because they  ve got big movie stars onboard  written and directed by vijay krishna acharya  tashan is what you  d describe as a road movie  but one that  s going in all the wrong directions  saif ali khan stars as jimmy cliff  a call  centre executive who  s hired to teach english to bhaiyyaji  that  s anil kapoor playing an ambitious up gangster  desperate to go cool  jimmy  s got his eye on pooja  the gangster  s pretty young assistant  played by kareena kapoor   who uses jimmy to swindle her boss of   crore rupees  determined to recover his money and also to punish both jimmy and pooja  bhaiyyaji recruits his most trusted henchman to do the job  so you have akshay kumar as bachchan pandey  the gangster  s faithful aide from kanpur  who tracks down the culprits and recovers the stolen money that  s hidden across the length and breadth of the country  much like those bad eighties potboilers  tashan too is held together by a threadbare script centred on a vendetta plot  but the treatment  s so over  the  top  so indulgent that it fails to establish any connect  instead of a coherent screenplay or a traditional three  act structure  you get a handful of set pieces around which most of the scenes are loosely constructed  that garish item song in the desert  the bullet  dodging action scene at a rajasthani fort  kareeena  s bikini moment  even that ridiculous climatic action scene complete with shaolin monks  a water scooter zipping through a dirty naala  and believe it or not  even a dhanno  style horse  driven tonga  in all fairness  not all these set pieces are badly done  the item song in the desert is quite neat actually  but very little of it makes any sense in the larger picture  because you  re just going from one piece to another without any help from the script really  little do you expect in a seemingly fast  paced road movie  to find a sickeningly sentimental flashback track about childhood sweethearts  you see the problem with tashan is nobody associated with this film knew what film they were making  what  s more  i don  t think they cared either  the film reeks of arrogance  arbitrarily packing in elements of every genre without actually bothering to stop and see if the mix does work  tashan is like an overcooked stew  there are films that kill you softly  and then there  s tashan  a film that kills you with excess  packaged snazzily with glossy  finish camera  work  exotic locations and fancy costumes  every frame of the film probably cost lakhs to put together  but it still feels like a hollow piece in the end because the story doesn  t hold  borrowing narrative from tarantino and style from stephen chow doesn  t help either because they don  t blend with the film  s wafer  thin plot  one may have complained a little less if the characters were more engaging  but anil kapoor  s grating hinglish dialogue makes you want to slit your wrists  and saif ali khan fumbles through the film foolishly  unable to find his feet  kareena kapoor  meanwhile  queen of over  the  top delivery  does a decent job  but of course  if tashan is salvaged to some extent  it  s thanks to akshay kumar  s irresistible presence and his spontaneous approach to the character  you cringe when he  s cupping his crotch repeatedly  and you scowl when he delivers those double  meaning dialogues  but not for a moment can you take your eyes off the screen when he  s up there  despite some good music from vishal  shekhar  the songs seem like they  re only prolonging your misery  well that  s because tashan is a test of your patience  in case you didn  t know  tashan means style  i  m sorry to say  this film has none   ', 'james cameron  s  titanic  is essentially a romantic adventure with visual grandeur and magnificence  a timeless tragic love story set against the background of this major historical event    it  s an astonishing movie that exemplifies hope  love and humanity     br    br   leonardo dicaprio is terrific on screen with big charisma    conveying passion  trust  insouciance and ingenuity  he  s a free  spirited wanderer with artistic pretensions  and a zest for life     br    br   kate winslet is absolutely lovely as the confused upper  class teen engaged to a nasty rich guy who finds herself  one night  plunged to the depths of despair     br    br   billy zane is an arrogant racist  abusive and ultra rich who would lie  cheat  steal  bribe with money or even use an innocent young child to escape defeat    he keeps a   carat blue diamond worn by louis xvi     br    br   kathy bates is the legendary unsinkable molly brown  the richest woman in denver  who is a lot less uptight than the other rich folk on the ship     br    br   frances fisheris is the impecunious cold snobbish mother who  deathly afraid of losing her social stature  forces her daughter to become engaged to marry a rich  supercilious snob     br    br   victor garber is the master shipbuilder  the real  life character who attempts to fix time  to measure it  in a sense  to make it into history     br    br   jonathan hyde is the white star chairman who wants the titanic to break the trans  atlantic speed record  in spite of warnings that icebergs may have floated into the hazardous northern crossing     br    br   bill paxton is the opportunistic undersea explorer in search for a very rare diamond called the  heart of the ocean    br    br   gloria stuart is the     year old woman who reveals a never  before told love story    the nightmare  the horror and the shock are imprinted upon her deeply lined face     br    br    titanic  is loaded with luminous photography and sweeping visuals as the footage of the shipwrecked ocean liner lying motionless on the ocean floor the incredible transformation of the bow of the sunken  titanic  that takes the viewer back to      revealing the meticulously re  created interiors the first sight of the titanic steamed steadily toward her date with destiny the titanic  leaving the southampton dock  and some dolphins appear jumping  racing along in front of the luxurious ship decaprio and winslet flying at the ship  s front rail in a gorgeous magic moment the intertwining of past and present as jack was drawing rose on his paper  the camera zooms closely on young rose  s eye  only to transform its shape into gloria stuart  s aged eye     br    br   chilling scenes titanic  s inevitable collision with destiny james cameronin one of the most terrifying sequences ever put on film takes us down with the titanic  finally leaving us floundering in the icy water  screaming for help that never comes     br    br   winner of   academy awards  including best picture  james cameron  s  titanic  is a gigantic epic where you don  t just watch the film  you experience it  the visual effects are amazing  like no other film  s    the decor is overwhelming    james horner  s music intensifies the emotions    the whole movie is hunting and involving  filled with a wide range of deep feelings     br    br   it  s truly a moving tribute to those who lost their lives on that unfortunate ship     ', 'such a long awaited movie   but it has disappointed me and my friends who had gone to see the movie on the first day   from the trailers it looked like a action movie  but it turned out to be a out  out comedy  a bad comedy   but one thing that deserves appreciation is the acting by these professional actors  they  ve done their part of the movie very well  good acting  but i don  t think that can save the movie   india has been shot beautifully  kerala  rajasthan   ladakh   were all saturated with color  alright  nevertheless the way the intrinsic beauty of these places was shot made me want to find out exactly where those places were and when i could go there     br    br   action sequences were shot very shabbily  no one could make out head  tail of the stunts  they  ve used akki  akshay kumar  very well but could  ve been done much much better    br    br   animation is the worst i  ve seen in recent movies     s movies had better animation scenes i guess  initial scene where the car is falling off  flying should be better word  the road into lake    br    br   and the movies name has been mentioned nearly every   to   mins  just to make sure audiences don  t forget the movie name i guess    ', 'this movie re  wrote film history in every way  no one cares what anyone thinks about this movie  because it transcends criticism  every flaw in the movie is easily overcome by the many amazing things the movie has going for it  it is an extremely beautiful movie  and i doubt many of us will see anything like it again  i  ve seen it more times than i care to count  and i still become transfixed every time  with a feeling which is hard to describe  one for the ages   ', 'i would have liked to write about the story  but there wasn  t any  i would have liked to quote a couple of hard hitting dialogs from the movie but  hinglish  is only funny for like  minutes  after that its overkill  i would have liked to swoon over the  keep  u  guessing suspense  but it was as predictable as    um mm  a yash raj movie     i would have liked to talk of the edge  of  the  seat action  but i don  t like cartoons much   br    br   sigh  br    br   all in all  this movie is perfect for   people attempting suicide  i promise it  ll push you over the edge   sado  masochists  this movie is way more effective than the barbed wire that silas guy in the da  vinci code wore    people researching alternative ways to spread terrorism  i swear the audience leaving the hall seemed to be in a mood to kill someone   movie piraters more power to them  if any movies deserves to not have the audience spending money to watch  this is it    barnacles  most types of plankton  green algae  because almost all other living things would require an iq factor somewhat greater than what the movie offers  afterthought the director of the movie  obviously  is a species of his own   and i hope to god that he is the only one of his kind   one is enough   br    br   things that could have made this a better movie   a story   a choreographer   a screenplay writer   a stunt coordinator   a story  did i already say that     a director  preferably one who is not mentally challenged  although even one who was challenged could have done a better job    anil kapoorbubonic plague  avoid at all costs   a statutory warning   watching yash raj movies is injurious to your mental health    br    br   things i liked about the movie   kareena kapoor  for obvious reasons   the english sub  titles   mera dil kho gaya  becomes   my heart is in a void    chaliya chaliya chaliya  turns into  im a flirt  im a lover  im a vagabond    priceless   br    br   in short  tashan to me  is like the opposite of a rubrics cube  the cube is supposed to increase the iq of the player  tashan promises to lower your iq  and that   in a mere    hours  woot   br    br   sigh   but thats just me  i could be wrong you  ve been warned anyways   ', 'titanic directed by james cameron presents a fictional love story on the historical setting of the titanic  the plot is simple  noncomplicated  or not for those who love plots that twist and turn and keep you in suspense  the end of the movie can be figured out within minutes of the start of the film  but the love story is an interesting one  however  kate winslett is wonderful as rose  an aristocratic young lady betrothed by cal  billy zane   early on the voyage rose meets jack  leonardo dicaprio   a lower class artist on his way to america after winning his ticket aboard titanic in a poker game  if he wants something  he goes and gets it unlike the upper class who are so concerned with their social worries  the two fall in love and the audience sees the sinking of the titanic primarily through their eyes   br    br   the movie begins in modern times with the exploration of the wreck by a group searching for treasures  that sunk with the titanic  which has recently occurred  one of the survivors of the titanic  rose dewitt bukater  who had heard of the exploration of the wreck on television and is flown to the boat where the search is being led from to tell of what she remembers to help the search  she gets to telling her memory of the one and only voyage of the titanic  with this  the scene shifts to southhampton  ireland where the titanic set sail from on april        as all the passengers are boarding  after another stop on the irish coast titanic went out to see on its maiden voyage across the atlantic bound for new york  historically the first few days of the voyage went by uneventful  but the fictional plot of the story is developed during this time as rose sees the hopeless entrapement of an engagement that she is in to the wealthy cal hockley and falls in love with third class passenger  jack dawson  captain smith alledgedly as shown in the movie was urged by the white star line director to increase the speed of the ship so they would make the newspaper headlines and receive extra publicity by arriving in new york on thursday night and not on friday morning as planned  smith then ordered the fateful decision going against his thirty  two years of experience to stretch the titanic  s legs out to full speed  the titanic had reports that the waters in the atlantic they were sailing in were full of icebergs  but they ignored these warnings and proceeded at full speed as shown in the movie  on april        at       an iceberg was sighted  they attempted to shut off the engines and turn the ship out of the path of the iceberg but there was not enough time and the ship hit the iceberg on the starboard side as depicted in the film  the portrayal of the many small holes in the side of the ship and not one large gash along the side is accurate  the crew of titanic sent out distress calls and set off distress rockets as shown until     when the lights finally failed  the lights of the california were spotted six miles away but they failed to realize what was going on and did not respond to titanic  s many pleas for help  the california had tried earlier in the day to warn titanic of the severe ice that had caused them to stop their trip but titanic had brushed them off causing the california to turn off its radio and leave the titanic on its own  the first class women and children were the first as depicted to be put into the twenty lifeboats that were on the ship  overwhelmingly the third class passengers suffered the most amount of deaths of any class and the crew was hit hard in this tragedy too  the word of white star line employees and first class passengers was believed over that of second and third class passengers when authorities were trying to gain information of the sinking  also  the metal that was used to build the titanic has been found in recent years under conditions of severe cold  which were experienced the night titanic sank to be extremely brittle  overall  the basic plot is very accurate in its portayal of the events and the times at which these events took place on the titanic   br    br   many of the characters in the story were not real and created simply for the purpose of the movie or as composite characters to represent possible characteristics and ideas of people on the ship  the core group of rose  jack  cal  and rose  s mother all were fictional characters added into the story as they represent different groups of people from the time  yet many characters such as the unsinkable molly brown captain edward smith the ship designer  thomas andrew the white star line representative  bruce ismay and all of the titanic  s officers were real  the maiden voyage was going to be captain edward smith  s last voyage anyway as he planned to retire afterwards  he had been a part of the white star line since     where he worked his way up to his status as the millionaire  s captain when the titanic sunk  the portrayals of the officers is accurate as only four survived the tragedy except for the officer who threatened to kill all of the passengers of the ship with his pistol  he is on record as acting heroicly and was misportrayed to the point that james cameron apologized and evoked a monument in his honor in the officer  s former canadian hometown  as shown in the movie there was a language problem between the crew and many of the lower  class passengers from non  english speaking nations  in addition  officer lowe was the only officer who came back in the lifeboat as depicted  the old people shown in their bed as the water came in their room were based on the strauss   not wanting to leave her husband  s side mrs  strauss refused to get in her lifeboat and died with her husband on the titanic  furthermore  mr  goggenheim who was shown sipping his brandy and smoking a cigar reportedly did go out like this dressed in his best  the richest man on the ship  john jacob astor  who owned most of manhattan died nonetheless as well  but his much younger wife was saved in a lifeboat  in addition  molly brown was saved and later had medals made up for the crew of the carpethia that picked the survivors of titanic up from the water  her ticket on the titanic had cost over four  thousand dollars and by the end of her life she ended up broke  all of the interiors of the ship were masterfully replacated down to the last pieces of china and silverware  the gymnasium  which is hardly seen is recreated perfectly with all of the machines reproduced to match those seen in old photographs  the wonderful outfits and costuming were an excellent re  creation of the post  victorian era of      the rich at this time practically ruled everything  as the women  s suffrage movement had not quite gotten moving yet  women during this time often married for financial security as rose was considering doing and normally took a back seast status to their husbands as cal wished for rose to do  the rich did not take well to new money  such as molly brown as depicted  everything of the time was very formal  women had to be escorted to dinner by a male figure as seen with in the dining scenes  smoking was not very common among women of the time but holders of cigarettes  which were just coming in at the time were used as seen with rose in the movie  men of the time generally smoked cigars not cigarettes  women were constained physically by their corsets and socially by society  although james cameron had no background in historical films he brought in experts of titanic coupled with two years spent cross  referencing the history of the titanic and few liberties were taken  the beautiful cinematography and special effects also helped to make the film even more breathtaking   br    br   a recognizable message can be seen in the movie titanic as the people on the ship had about three hours to contemplate their demise  the director  james cameron  shows the various reactions to this time of crisis in people  s lives  everyone reacts differently and he gets you to think of how you might have reacted had you been in that situation on the titanic on that fateful night  in addition  this film is a reflection of the      s when it was produced as it gives a look into the wreck of the titanic  only in the past fifteen years has the site of the actual titanic been found and explored  this movie was able to give us a deeper look into a disaster that many would not have viewed  however  the moral question of whether people today should be taking treasures from the wreck of an underwater graveyard is posed  there have been attempts to stop treasure seeking missions such as the one portrayed in titanic but all have failed  as it stands today anyone can make a voyage to the titanic and take whatever valuables they as portrayed in the film showing the general values of our time on this matter   br    br   technically the film is very well done  to get footage of the wreck at the bottom of the ocean it took twelve dives to get all of the footage needed for the movie  in addition  a special camera had to be created to withstand the intense pressure at the bottom of the ocean  cameron did not plan on using the probe to go as far inside titanic as anyone has in the   years since the ship sunk but it worked out that this provided an unique perspective into the ship  furthermore  throughout the film fade ins and outs from the wreck of titanic to the scene of titanic during its actual voyage  this shift between the modern scene to the past scene during the voyage works as an excellent transition that makes the story easy to follow in aclear manner  at the very beginning of the movie a septune recreation is used to recreate the scene when the actual people left the european coast on titanic giving it distinction from the rest of the events of the film   br    br   titanic plays almost like a historical biography and is like a work of art  a true epic  like most history novels  we know the ending  but it doesn  t take away from the wonderful treats that can be found in this picture  certain aspects of this film are academy award material including costuming  sound  cintematography  and editing  if you like interesting characters that will give you an insight into the life of characters in the early      s and how they face disaster  then this movie definitely is for you   br    br    ', 'this is the biggest flop of      i don know what director has is his mind of creating such a big disaster  the songs have been added without situations  the story have been stretched to fill the  hrs gap and most disgusting are the action stunts performed by the actors it  s like everyone are having superpowers they can run in between the bullets are fire and nothing happens to them and one person fighting with    people  only the best performance was by anil kapoor man he is all time at his best playing the role of villain with a comic act speaking hinglish    akki is also done a good job     but the movieee just forget it   ']\n"
     ]
    }
   ],
   "source": [
    "print(reviews[:100])"
   ]
  },
  {
   "cell_type": "code",
   "execution_count": 56,
   "metadata": {
    "colab": {},
    "colab_type": "code",
    "collapsed": true,
    "id": "0Z1GU5CTP8Of",
    "jupyter": {
     "outputs_hidden": true
    }
   },
   "outputs": [],
   "source": [
    "# Create your dictionary that maps vocab words to integers here\n",
    "vocab = set(words)\n",
    "vocab = sorted(vocab)\n",
    "vocab_to_int = {word:id for id, word in enumerate(vocab, 1)}\n",
    "# Convert the reviews to integers, same shape as reviews list, but with integers\n",
    "\n",
    "reviews_ints = []\n",
    "for x in reviews:\n",
    "  reviews_ints.append([vocab_to_int[e] for e in x.split()])"
   ]
  },
  {
   "cell_type": "markdown",
   "metadata": {
    "colab_type": "text",
    "id": "zldlFV8lP8Oh"
   },
   "source": [
    "### Encoding the labels\n",
    "\n",
    "Our labels are \"positive\" or \"negative\". To use these labels in our network, we need to convert them to 0 and 1.\n",
    "\n",
    "> **Exercise:** Convert labels from `positive` and `negative` to 1 and 0, respectively."
   ]
  },
  {
   "cell_type": "code",
   "execution_count": 57,
   "metadata": {
    "colab": {},
    "colab_type": "code",
    "id": "Q0wN2xfrP8Oh"
   },
   "outputs": [],
   "source": [
    "# Convert labels to 1s and 0s for 'positive' and 'negative'\n",
    "labels = labels.split('\\n')\n",
    "labels = np.array([1 if x == 'positive' else 0 for x in labels])\n"
   ]
  },
  {
   "cell_type": "markdown",
   "metadata": {
    "colab_type": "text",
    "id": "2TJiIOOOP8Oj"
   },
   "source": [
    "If you built `labels` correctly, you should see the next output."
   ]
  },
  {
   "cell_type": "code",
   "execution_count": 58,
   "metadata": {
    "colab": {
     "base_uri": "https://localhost:8080/",
     "height": 51
    },
    "colab_type": "code",
    "id": "eEoS_SOJP8Oj",
    "outputId": "6efae152-3329-47b0-8887-1f39b2853d79"
   },
   "outputs": [
    {
     "name": "stdout",
     "output_type": "stream",
     "text": [
      "Zero-length reviews: 1\n",
      "Maximum review length: 2514\n"
     ]
    }
   ],
   "source": [
    "from collections import Counter\n",
    "review_lens = Counter([len(x) for x in reviews_ints])\n",
    "print(\"Zero-length reviews: {}\".format(review_lens[0]))\n",
    "print(\"Maximum review length: {}\".format(max(review_lens)))"
   ]
  },
  {
   "cell_type": "markdown",
   "metadata": {
    "colab_type": "text",
    "id": "ijH3WQ_LP8Ol"
   },
   "source": [
    "Okay, a couple issues here. We seem to have one review with zero length. And, the maximum review length is way too many steps for our RNN. Let's truncate to 200 steps. For reviews shorter than 200, we'll pad with 0s. For reviews longer than 200, we can truncate them to the first 200 characters.\n",
    "\n",
    "> **Exercise:** First, remove the review with zero length from the `reviews_ints` list."
   ]
  },
  {
   "cell_type": "code",
   "execution_count": 59,
   "metadata": {
    "colab": {},
    "colab_type": "code",
    "id": "X0S0-4L0P8Ol"
   },
   "outputs": [],
   "source": [
    "# Filter out that review with 0 length\n",
    "reviews_ints = [x for x in reviews_ints if len(x) > 0]"
   ]
  },
  {
   "cell_type": "markdown",
   "metadata": {
    "colab_type": "text",
    "id": "lAJ1V-clP8On"
   },
   "source": [
    "> **Exercise:** Now, create an array `features` that contains the data we'll pass to the network. The data should come from `review_ints`, since we want to feed integers to the network. Each row should be 200 elements long. For reviews shorter than 200 words, left pad with 0s. That is, if the review is `['best', 'movie', 'ever']`, `[117, 18, 128]` as integers, the row will look like `[0, 0, 0, ..., 0, 117, 18, 128]`. For reviews longer than 200, use on the first 200 words as the feature vector.\n",
    "\n",
    "This isn't trivial and there are a bunch of ways to do this. But, if you're going to be building your own deep learning networks, you're going to have to get used to preparing your data.\n",
    "\n"
   ]
  },
  {
   "cell_type": "code",
   "execution_count": 60,
   "metadata": {
    "colab": {},
    "colab_type": "code",
    "id": "nYGYGl9yP8On"
   },
   "outputs": [],
   "source": [
    "seq_len = 200\n",
    "features = np.zeros((len(reviews), seq_len))\n",
    "for i, row in enumerate(reviews_ints):\n",
    "    features[i, -len(row):] = np.array(row)[:seq_len]"
   ]
  },
  {
   "cell_type": "markdown",
   "metadata": {
    "colab_type": "text",
    "id": "MokvjHUQP8Oo"
   },
   "source": [
    "If you build features correctly, it should look like that cell output below."
   ]
  },
  {
   "cell_type": "code",
   "execution_count": 61,
   "metadata": {
    "colab": {
     "base_uri": "https://localhost:8080/",
     "height": 1000
    },
    "colab_type": "code",
    "id": "7NC802uCP8Op",
    "outputId": "92712ef7-0c74-4dab-e844-b49a1ce55fac"
   },
   "outputs": [
    {
     "data": {
      "text/plain": [
       "array([[0.0000e+00, 0.0000e+00, 0.0000e+00, 0.0000e+00, 0.0000e+00,\n",
       "        0.0000e+00, 0.0000e+00, 0.0000e+00, 0.0000e+00, 0.0000e+00,\n",
       "        0.0000e+00, 0.0000e+00, 0.0000e+00, 0.0000e+00, 0.0000e+00,\n",
       "        0.0000e+00, 0.0000e+00, 0.0000e+00, 0.0000e+00, 0.0000e+00,\n",
       "        0.0000e+00, 0.0000e+00, 0.0000e+00, 0.0000e+00, 0.0000e+00,\n",
       "        0.0000e+00, 0.0000e+00, 0.0000e+00, 0.0000e+00, 0.0000e+00,\n",
       "        0.0000e+00, 0.0000e+00, 0.0000e+00, 0.0000e+00, 0.0000e+00,\n",
       "        0.0000e+00, 0.0000e+00, 0.0000e+00, 0.0000e+00, 0.0000e+00,\n",
       "        0.0000e+00, 0.0000e+00, 0.0000e+00, 0.0000e+00, 0.0000e+00,\n",
       "        0.0000e+00, 0.0000e+00, 0.0000e+00, 0.0000e+00, 0.0000e+00,\n",
       "        0.0000e+00, 0.0000e+00, 0.0000e+00, 0.0000e+00, 0.0000e+00,\n",
       "        0.0000e+00, 0.0000e+00, 0.0000e+00, 0.0000e+00, 0.0000e+00,\n",
       "        8.2100e+03, 2.9951e+04, 3.3665e+04, 1.0000e+00, 9.8190e+03,\n",
       "        1.2477e+04, 3.3768e+04, 5.2591e+04, 3.6890e+03, 6.5543e+04,\n",
       "        5.6451e+04, 6.6137e+04, 3.3970e+03, 6.0807e+04, 4.6549e+04,\n",
       "        5.1107e+04, 1.8100e+02, 5.7199e+04, 3.7775e+04, 6.3328e+04,\n",
       "        3.3970e+03, 6.4947e+04, 4.3774e+04, 7.3400e+04, 3.2081e+04,\n",
       "        6.5543e+04, 6.4949e+04, 5.1048e+04, 3.7169e+04, 4.0892e+04,\n",
       "        6.6340e+04, 5.6560e+03, 6.5523e+04, 8.2100e+03, 2.9951e+04,\n",
       "        5.6131e+04, 5.6749e+04, 3.3665e+04, 4.3370e+04, 1.1909e+04],\n",
       "       [0.0000e+00, 0.0000e+00, 0.0000e+00, 0.0000e+00, 0.0000e+00,\n",
       "        0.0000e+00, 0.0000e+00, 0.0000e+00, 0.0000e+00, 0.0000e+00,\n",
       "        0.0000e+00, 0.0000e+00, 0.0000e+00, 0.0000e+00, 0.0000e+00,\n",
       "        0.0000e+00, 0.0000e+00, 0.0000e+00, 0.0000e+00, 0.0000e+00,\n",
       "        0.0000e+00, 0.0000e+00, 0.0000e+00, 0.0000e+00, 0.0000e+00,\n",
       "        0.0000e+00, 0.0000e+00, 0.0000e+00, 0.0000e+00, 0.0000e+00,\n",
       "        0.0000e+00, 0.0000e+00, 0.0000e+00, 0.0000e+00, 0.0000e+00,\n",
       "        0.0000e+00, 0.0000e+00, 0.0000e+00, 0.0000e+00, 0.0000e+00,\n",
       "        0.0000e+00, 0.0000e+00, 0.0000e+00, 0.0000e+00, 0.0000e+00,\n",
       "        0.0000e+00, 0.0000e+00, 0.0000e+00, 0.0000e+00, 0.0000e+00,\n",
       "        0.0000e+00, 0.0000e+00, 0.0000e+00, 0.0000e+00, 0.0000e+00,\n",
       "        0.0000e+00, 0.0000e+00, 0.0000e+00, 0.0000e+00, 0.0000e+00,\n",
       "        0.0000e+00, 0.0000e+00, 0.0000e+00, 0.0000e+00, 0.0000e+00,\n",
       "        0.0000e+00, 0.0000e+00, 0.0000e+00, 0.0000e+00, 0.0000e+00,\n",
       "        0.0000e+00, 0.0000e+00, 0.0000e+00, 0.0000e+00, 0.0000e+00,\n",
       "        0.0000e+00, 0.0000e+00, 0.0000e+00, 0.0000e+00, 0.0000e+00,\n",
       "        0.0000e+00, 0.0000e+00, 0.0000e+00, 0.0000e+00, 0.0000e+00,\n",
       "        0.0000e+00, 6.2632e+04, 4.5809e+04, 1.0000e+00, 3.9682e+04,\n",
       "        7.2144e+04, 2.9037e+04, 6.9126e+04, 2.3140e+04, 2.4476e+04,\n",
       "        1.0000e+00, 4.9065e+04, 6.2117e+04, 4.6592e+04, 7.2586e+04],\n",
       "       [3.0468e+04, 4.6281e+04, 3.0894e+04, 3.3970e+03, 2.6255e+04,\n",
       "        9.6700e+03, 6.2132e+04, 2.9037e+04, 5.4800e+03, 2.0850e+03,\n",
       "        3.3756e+04, 2.4476e+04, 7.3400e+04, 8.8550e+03, 4.4548e+04,\n",
       "        1.0000e+00, 4.9379e+04, 6.6340e+04, 2.9594e+04, 6.5827e+04,\n",
       "        4.6049e+04, 6.5543e+04, 6.2781e+04, 6.5523e+04, 7.1839e+04,\n",
       "        4.6054e+04, 1.3290e+04, 3.1082e+04, 7.2144e+04, 1.7291e+04,\n",
       "        2.1776e+04, 2.5211e+04, 2.7003e+04, 6.6340e+04, 5.7199e+04,\n",
       "        7.2866e+04, 4.6281e+04, 7.0983e+04, 2.4476e+04, 6.5543e+04,\n",
       "        4.0519e+04, 4.3109e+04, 4.8288e+04, 6.5736e+04, 4.5809e+04,\n",
       "        6.5543e+04, 3.0467e+04, 3.3970e+03, 3.4885e+04, 1.0000e+00,\n",
       "        3.8584e+04, 1.0113e+04, 7.2024e+04, 7.2933e+04, 1.8100e+02,\n",
       "        6.5733e+04, 6.3328e+04, 3.3970e+03, 5.2296e+04, 6.5543e+04,\n",
       "        7.1324e+04, 4.6049e+04, 3.3556e+04, 5.0713e+04, 3.5616e+04,\n",
       "        6.6340e+04, 6.3295e+04, 6.5021e+04, 6.5543e+04, 2.0231e+04,\n",
       "        3.2614e+04, 4.6281e+04, 7.2933e+04, 3.1583e+04, 6.5683e+04,\n",
       "        3.8198e+04, 5.2720e+03, 4.4626e+04, 6.6340e+04, 2.0769e+04,\n",
       "        6.9549e+04, 4.6049e+04, 6.5543e+04, 6.2790e+04, 7.6810e+03,\n",
       "        7.6810e+03, 8.8550e+03, 7.1943e+04, 3.1583e+04, 7.3569e+04,\n",
       "        7.1839e+04, 2.6656e+04, 1.0000e+00, 6.0050e+03, 6.6340e+04,\n",
       "        3.8153e+04, 4.6049e+04, 6.5543e+04, 6.2790e+04, 2.4476e+04],\n",
       "       [1.2880e+03, 6.2117e+04, 3.3970e+03, 1.0000e+00, 7.7680e+03,\n",
       "        4.4559e+04, 3.9012e+04, 4.9383e+04, 3.3665e+04, 3.8216e+04,\n",
       "        6.9549e+04, 7.2586e+04, 6.9952e+04, 4.7210e+04, 6.3328e+04,\n",
       "        5.7090e+03, 6.6340e+04, 5.4889e+04, 8.8240e+03, 4.8799e+04,\n",
       "        6.2377e+04, 3.4001e+04, 6.2390e+04, 7.2144e+04, 3.3665e+04,\n",
       "        2.4288e+04, 6.5580e+04, 1.0000e+00, 8.6340e+03, 4.5809e+04,\n",
       "        7.0701e+04, 5.6131e+04, 6.6340e+04, 3.0149e+04, 2.1543e+04,\n",
       "        3.2081e+04, 5.0618e+04, 4.5809e+04, 3.3768e+04, 5.5990e+03,\n",
       "        4.6169e+04, 6.6340e+04, 6.5543e+04, 5.1584e+04, 3.3970e+03,\n",
       "        1.0000e+00, 4.3651e+04, 1.7370e+03, 4.6049e+04, 6.9780e+03,\n",
       "        3.3665e+04, 6.2377e+04, 1.5635e+04, 3.4807e+04, 3.5224e+04,\n",
       "        5.2181e+04, 2.9692e+04, 6.0856e+04, 6.5543e+04, 3.9012e+04,\n",
       "        3.4340e+04, 6.4548e+04, 4.5812e+04, 3.3970e+03, 4.9397e+04,\n",
       "        8.8550e+03, 4.1701e+04, 1.2510e+03, 6.5543e+04, 4.9383e+04,\n",
       "        3.3665e+04, 2.9890e+04, 3.3894e+04, 8.9370e+03, 6.5543e+04,\n",
       "        1.2023e+04, 4.9123e+04, 1.0480e+04, 5.5282e+04, 2.4783e+04,\n",
       "        3.0149e+04, 6.7982e+04, 3.6100e+02, 5.6131e+04, 4.7830e+03,\n",
       "        4.2797e+04, 4.0121e+04, 7.2381e+04, 4.1638e+04, 4.7808e+04,\n",
       "        7.2144e+04, 3.5987e+04, 6.5543e+04, 4.7761e+04, 1.4511e+04,\n",
       "        4.6592e+04, 7.2586e+04, 6.0000e+04, 2.5909e+04, 6.5683e+04],\n",
       "       [0.0000e+00, 0.0000e+00, 0.0000e+00, 0.0000e+00, 0.0000e+00,\n",
       "        0.0000e+00, 0.0000e+00, 0.0000e+00, 0.0000e+00, 0.0000e+00,\n",
       "        0.0000e+00, 0.0000e+00, 0.0000e+00, 0.0000e+00, 0.0000e+00,\n",
       "        0.0000e+00, 0.0000e+00, 0.0000e+00, 0.0000e+00, 0.0000e+00,\n",
       "        0.0000e+00, 0.0000e+00, 0.0000e+00, 0.0000e+00, 0.0000e+00,\n",
       "        0.0000e+00, 0.0000e+00, 0.0000e+00, 0.0000e+00, 0.0000e+00,\n",
       "        0.0000e+00, 0.0000e+00, 0.0000e+00, 0.0000e+00, 0.0000e+00,\n",
       "        0.0000e+00, 0.0000e+00, 0.0000e+00, 0.0000e+00, 0.0000e+00,\n",
       "        0.0000e+00, 0.0000e+00, 0.0000e+00, 0.0000e+00, 0.0000e+00,\n",
       "        0.0000e+00, 0.0000e+00, 0.0000e+00, 0.0000e+00, 0.0000e+00,\n",
       "        8.0730e+03, 4.6756e+04, 5.2800e+02, 8.9370e+03, 3.7539e+04,\n",
       "        2.3850e+03, 7.1405e+04, 5.9840e+03, 1.8984e+04, 3.0286e+04,\n",
       "        3.6557e+04, 3.1424e+04, 2.9156e+04, 2.1744e+04, 5.7783e+04,\n",
       "        2.1760e+03, 3.8665e+04, 5.7048e+04, 3.2081e+04, 1.1925e+04,\n",
       "        7.1344e+04, 3.0510e+03, 5.7682e+04, 6.6340e+04, 4.5030e+04,\n",
       "        6.5543e+04, 1.3826e+04, 4.6049e+04, 2.2488e+04, 3.3665e+04,\n",
       "        1.0000e+00, 1.1650e+04, 3.3970e+03, 2.7109e+04, 3.3970e+03,\n",
       "        2.6420e+03, 3.2081e+04, 6.6540e+03, 5.6227e+04, 6.5543e+04,\n",
       "        6.4533e+04, 4.6049e+04, 3.7113e+04, 3.3665e+04, 1.7370e+03,\n",
       "        6.3610e+04, 1.0300e+03, 5.5990e+03, 4.1000e+02, 4.5809e+04],\n",
       "       [0.0000e+00, 0.0000e+00, 0.0000e+00, 0.0000e+00, 0.0000e+00,\n",
       "        0.0000e+00, 0.0000e+00, 0.0000e+00, 0.0000e+00, 0.0000e+00,\n",
       "        0.0000e+00, 0.0000e+00, 0.0000e+00, 0.0000e+00, 0.0000e+00,\n",
       "        0.0000e+00, 0.0000e+00, 0.0000e+00, 0.0000e+00, 0.0000e+00,\n",
       "        0.0000e+00, 0.0000e+00, 0.0000e+00, 0.0000e+00, 0.0000e+00,\n",
       "        0.0000e+00, 0.0000e+00, 0.0000e+00, 0.0000e+00, 0.0000e+00,\n",
       "        0.0000e+00, 0.0000e+00, 0.0000e+00, 0.0000e+00, 0.0000e+00,\n",
       "        0.0000e+00, 0.0000e+00, 0.0000e+00, 0.0000e+00, 0.0000e+00,\n",
       "        0.0000e+00, 0.0000e+00, 0.0000e+00, 0.0000e+00, 0.0000e+00,\n",
       "        0.0000e+00, 0.0000e+00, 0.0000e+00, 0.0000e+00, 0.0000e+00,\n",
       "        0.0000e+00, 0.0000e+00, 0.0000e+00, 0.0000e+00, 6.5773e+04,\n",
       "        2.3548e+04, 3.6517e+04, 6.0828e+04, 3.1424e+04, 1.4048e+04,\n",
       "        6.4394e+04, 5.1887e+04, 4.3774e+04, 2.3666e+04, 4.6049e+04,\n",
       "        3.6890e+03, 2.3768e+04, 1.0635e+04, 4.6049e+04, 6.5543e+04,\n",
       "        4.7667e+04, 4.5809e+04, 6.5543e+04, 3.7178e+04, 5.6800e+02,\n",
       "        6.5773e+04, 3.2520e+04, 6.7051e+04, 6.6340e+04, 3.6514e+04,\n",
       "        4.5809e+04, 1.0869e+04, 7.1992e+04, 5.8598e+04, 5.8510e+04,\n",
       "        6.5543e+04, 5.7436e+04, 7.2586e+04, 2.9692e+04, 3.7178e+04,\n",
       "        3.9682e+04, 2.1724e+04, 6.5543e+04, 5.5490e+04, 5.7048e+04,\n",
       "        9.2360e+03, 5.1900e+02, 3.3970e+03, 5.5990e+03, 4.1376e+04],\n",
       "       [0.0000e+00, 0.0000e+00, 0.0000e+00, 0.0000e+00, 0.0000e+00,\n",
       "        0.0000e+00, 0.0000e+00, 0.0000e+00, 0.0000e+00, 0.0000e+00,\n",
       "        0.0000e+00, 0.0000e+00, 0.0000e+00, 0.0000e+00, 0.0000e+00,\n",
       "        0.0000e+00, 0.0000e+00, 0.0000e+00, 0.0000e+00, 0.0000e+00,\n",
       "        0.0000e+00, 0.0000e+00, 0.0000e+00, 0.0000e+00, 0.0000e+00,\n",
       "        0.0000e+00, 0.0000e+00, 0.0000e+00, 0.0000e+00, 0.0000e+00,\n",
       "        0.0000e+00, 0.0000e+00, 0.0000e+00, 0.0000e+00, 0.0000e+00,\n",
       "        0.0000e+00, 0.0000e+00, 0.0000e+00, 0.0000e+00, 0.0000e+00,\n",
       "        0.0000e+00, 0.0000e+00, 0.0000e+00, 0.0000e+00, 0.0000e+00,\n",
       "        0.0000e+00, 0.0000e+00, 0.0000e+00, 0.0000e+00, 0.0000e+00,\n",
       "        0.0000e+00, 0.0000e+00, 0.0000e+00, 0.0000e+00, 0.0000e+00,\n",
       "        0.0000e+00, 0.0000e+00, 0.0000e+00, 0.0000e+00, 0.0000e+00,\n",
       "        0.0000e+00, 0.0000e+00, 0.0000e+00, 0.0000e+00, 0.0000e+00,\n",
       "        0.0000e+00, 0.0000e+00, 0.0000e+00, 0.0000e+00, 0.0000e+00,\n",
       "        0.0000e+00, 0.0000e+00, 0.0000e+00, 0.0000e+00, 0.0000e+00,\n",
       "        0.0000e+00, 6.5773e+04, 3.3665e+04, 1.9767e+04, 6.5543e+04,\n",
       "        4.3109e+04, 6.8593e+04, 2.3548e+04, 3.2786e+04, 6.5543e+04,\n",
       "        8.2420e+03, 9.4080e+03, 6.3802e+04, 3.3810e+04, 2.4003e+04,\n",
       "        3.3768e+04, 1.8431e+04, 4.5177e+04, 2.6653e+04, 1.0000e+00,\n",
       "        5.2990e+04, 7.0555e+04, 4.5809e+04, 3.0468e+04, 6.9054e+04],\n",
       "       [0.0000e+00, 0.0000e+00, 0.0000e+00, 0.0000e+00, 0.0000e+00,\n",
       "        0.0000e+00, 0.0000e+00, 0.0000e+00, 0.0000e+00, 0.0000e+00,\n",
       "        0.0000e+00, 0.0000e+00, 0.0000e+00, 0.0000e+00, 0.0000e+00,\n",
       "        0.0000e+00, 0.0000e+00, 0.0000e+00, 0.0000e+00, 0.0000e+00,\n",
       "        0.0000e+00, 0.0000e+00, 0.0000e+00, 0.0000e+00, 0.0000e+00,\n",
       "        0.0000e+00, 0.0000e+00, 0.0000e+00, 0.0000e+00, 0.0000e+00,\n",
       "        0.0000e+00, 0.0000e+00, 0.0000e+00, 0.0000e+00, 0.0000e+00,\n",
       "        0.0000e+00, 0.0000e+00, 0.0000e+00, 0.0000e+00, 0.0000e+00,\n",
       "        0.0000e+00, 0.0000e+00, 0.0000e+00, 0.0000e+00, 0.0000e+00,\n",
       "        0.0000e+00, 0.0000e+00, 6.0976e+04, 2.1773e+04, 3.1424e+04,\n",
       "        3.6007e+04, 6.5773e+04, 3.3665e+04, 6.3764e+04, 6.6340e+04,\n",
       "        5.2720e+03, 2.0850e+03, 3.3040e+03, 2.3548e+04, 8.8550e+03,\n",
       "        7.2985e+04, 6.5683e+04, 5.9021e+04, 2.9156e+04, 2.8696e+04,\n",
       "        4.6592e+04, 2.8216e+04, 3.6890e+03, 6.5543e+04, 5.7442e+04,\n",
       "        6.0569e+04, 4.8288e+04, 1.4046e+04, 6.8730e+03, 6.5571e+04,\n",
       "        7.7400e+03, 4.6592e+04, 2.1760e+03, 4.5177e+04, 7.1476e+04,\n",
       "        1.7780e+03, 6.5543e+04, 5.7043e+04, 1.6814e+04, 2.1760e+03,\n",
       "        4.8896e+04, 1.7572e+04, 7.1425e+04, 2.1922e+04, 6.5773e+04,\n",
       "        6.2632e+04, 3.3665e+04, 6.6541e+04, 4.7191e+04, 6.6340e+04,\n",
       "        7.1476e+04, 6.5543e+04, 2.1200e+02, 4.5809e+04, 1.0000e+00],\n",
       "       [0.0000e+00, 0.0000e+00, 0.0000e+00, 0.0000e+00, 0.0000e+00,\n",
       "        0.0000e+00, 0.0000e+00, 0.0000e+00, 0.0000e+00, 0.0000e+00,\n",
       "        0.0000e+00, 0.0000e+00, 0.0000e+00, 0.0000e+00, 0.0000e+00,\n",
       "        0.0000e+00, 0.0000e+00, 0.0000e+00, 0.0000e+00, 0.0000e+00,\n",
       "        0.0000e+00, 0.0000e+00, 0.0000e+00, 0.0000e+00, 0.0000e+00,\n",
       "        0.0000e+00, 0.0000e+00, 0.0000e+00, 0.0000e+00, 0.0000e+00,\n",
       "        0.0000e+00, 0.0000e+00, 0.0000e+00, 0.0000e+00, 0.0000e+00,\n",
       "        0.0000e+00, 0.0000e+00, 0.0000e+00, 0.0000e+00, 0.0000e+00,\n",
       "        0.0000e+00, 0.0000e+00, 0.0000e+00, 0.0000e+00, 0.0000e+00,\n",
       "        0.0000e+00, 0.0000e+00, 0.0000e+00, 0.0000e+00, 0.0000e+00,\n",
       "        0.0000e+00, 0.0000e+00, 0.0000e+00, 0.0000e+00, 0.0000e+00,\n",
       "        0.0000e+00, 0.0000e+00, 0.0000e+00, 0.0000e+00, 0.0000e+00,\n",
       "        0.0000e+00, 0.0000e+00, 0.0000e+00, 0.0000e+00, 0.0000e+00,\n",
       "        0.0000e+00, 0.0000e+00, 0.0000e+00, 0.0000e+00, 0.0000e+00,\n",
       "        0.0000e+00, 0.0000e+00, 0.0000e+00, 0.0000e+00, 0.0000e+00,\n",
       "        0.0000e+00, 0.0000e+00, 0.0000e+00, 0.0000e+00, 6.5773e+04,\n",
       "        3.3665e+04, 4.5177e+04, 6.5543e+04, 6.8025e+04, 4.1140e+04,\n",
       "        8.2420e+03, 2.3548e+04, 3.3768e+04, 7.1425e+04, 4.3370e+04,\n",
       "        3.7545e+04, 5.9928e+04, 6.5500e+04, 4.3109e+04, 4.5809e+04,\n",
       "        3.0149e+04, 4.3290e+04, 2.1760e+03, 5.7800e+02, 2.8404e+04],\n",
       "       [7.1992e+04, 3.1424e+04, 7.1425e+04, 3.8141e+04, 4.3774e+04,\n",
       "        4.7578e+04, 6.6544e+04, 4.0892e+04, 1.6970e+03, 6.6340e+04,\n",
       "        6.5543e+04, 6.5547e+04, 6.6340e+04, 5.7754e+04, 3.3178e+04,\n",
       "        3.3768e+04, 7.1425e+04, 4.6065e+04, 4.5809e+04, 3.9921e+04,\n",
       "        4.3290e+04, 3.1424e+04, 7.1483e+04, 7.2586e+04, 4.3774e+04,\n",
       "        4.7578e+04, 8.8550e+03, 6.5773e+04, 7.1425e+04, 6.5543e+04,\n",
       "        4.6095e+04, 4.6065e+04, 7.1596e+04, 7.1215e+04, 4.6592e+04,\n",
       "        4.5809e+04, 5.9532e+04, 6.5596e+04, 3.1424e+04, 2.8404e+04,\n",
       "        4.4548e+04, 5.7783e+04, 3.3178e+04, 6.9455e+04, 3.4885e+04,\n",
       "        5.3168e+04, 2.1760e+03, 3.1424e+04, 1.4046e+04, 2.9156e+04,\n",
       "        3.8154e+04, 4.6592e+04, 6.5543e+04, 5.4471e+04, 4.5809e+04,\n",
       "        4.3774e+04, 3.7775e+04, 7.2610e+04, 3.3768e+04, 7.1943e+04,\n",
       "        1.0000e+00, 5.0753e+04, 4.9924e+04, 2.1760e+03, 4.7193e+04,\n",
       "        7.4670e+03, 4.9032e+04, 4.5809e+04, 5.6131e+04, 7.2443e+04,\n",
       "        2.1760e+03, 1.0825e+04, 6.7419e+04, 7.2807e+04, 1.5980e+03,\n",
       "        3.3665e+04, 4.6065e+04, 4.5809e+04, 4.3774e+04, 2.3010e+04,\n",
       "        1.7585e+04, 8.8550e+03, 3.3178e+04, 3.3665e+04, 8.9370e+03,\n",
       "        2.2791e+04, 6.5543e+04, 7.2952e+04, 4.9032e+04, 4.5809e+04,\n",
       "        1.4332e+04, 4.5809e+04, 3.0149e+04, 9.6110e+03, 3.2081e+04,\n",
       "        6.5543e+04, 6.9110e+04, 6.3077e+04, 4.5809e+04, 3.2692e+04]])"
      ]
     },
     "execution_count": 61,
     "metadata": {
      "tags": []
     },
     "output_type": "execute_result"
    }
   ],
   "source": [
    "features[:10,:100]"
   ]
  },
  {
   "cell_type": "markdown",
   "metadata": {
    "colab_type": "text",
    "id": "mmOKgUHRP8Oq"
   },
   "source": [
    "## Training, Validation, Test\n",
    "\n"
   ]
  },
  {
   "cell_type": "markdown",
   "metadata": {
    "colab_type": "text",
    "id": "O32XJnvjP8Or"
   },
   "source": [
    "With our data in nice shape, we'll split it into training, validation, and test sets.\n",
    "\n",
    "> **Exercise:** Create the training, validation, and test sets here. You'll need to create sets for the features and the labels, `train_x` and `train_y` for example. Define a split fraction, `split_frac` as the fraction of data to keep in the training set. Usually this is set to 0.8 or 0.9. The rest of the data will be split in half to create the validation and testing data."
   ]
  },
  {
   "cell_type": "code",
   "execution_count": 62,
   "metadata": {
    "colab": {
     "base_uri": "https://localhost:8080/",
     "height": 85
    },
    "colab_type": "code",
    "id": "8Kn-9BbeP8Or",
    "outputId": "34bf3e4e-6461-418f-da13-b38092331468"
   },
   "outputs": [
    {
     "name": "stdout",
     "output_type": "stream",
     "text": [
      "\t\t\tFeature Shapes:\n",
      "Train set: \t\t(20000, 200) \n",
      "Validation set: \t(2500, 200) \n",
      "Test set: \t\t(2501, 200)\n"
     ]
    }
   ],
   "source": [
    "split_frac = 0.8\n",
    "idx = int(len(features)*0.8)\n",
    "\n",
    "train_x, val_x = features[:idx], features[idx:]\n",
    "train_y, val_y = labels[:idx], labels[idx:]\n",
    "\n",
    "index = int(len(val_x)*0.5)\n",
    "\n",
    "val_x, test_x = val_x[:index], val_x[index:]\n",
    "val_y, test_y = val_y[:index], val_y[index:]\n",
    "\n",
    "\n",
    "print(\"\\t\\t\\tFeature Shapes:\")\n",
    "print(\"Train set: \\t\\t{}\".format(train_x.shape), \n",
    "      \"\\nValidation set: \\t{}\".format(val_x.shape),\n",
    "      \"\\nTest set: \\t\\t{}\".format(test_x.shape))"
   ]
  },
  {
   "cell_type": "markdown",
   "metadata": {
    "colab_type": "text",
    "id": "AWSJt8gYP8Os"
   },
   "source": [
    "With train, validation, and text fractions of 0.8, 0.1, 0.1, the final shapes should look like:\n",
    "```\n",
    "                    Feature Shapes:\n",
    "Train set: \t\t (20000, 200) \n",
    "Validation set: \t(2500, 200) \n",
    "Test set: \t\t  (2500, 200)\n",
    "```"
   ]
  },
  {
   "cell_type": "markdown",
   "metadata": {
    "colab_type": "text",
    "id": "Iv08zlKFP8Os"
   },
   "source": [
    "## Build the graph\n",
    "\n",
    "Here, we'll build the graph. First up, defining the hyperparameters.\n",
    "\n",
    "* `lstm_size`: Number of units in the hidden layers in the LSTM cells. Usually larger is better performance wise. Common values are 128, 256, 512, etc.\n",
    "* `lstm_layers`: Number of LSTM layers in the network. I'd start with 1, then add more if I'm underfitting.\n",
    "* `batch_size`: The number of reviews to feed the network in one training pass. Typically this should be set as high as you can go without running out of memory.\n",
    "* `learning_rate`: Learning rate"
   ]
  },
  {
   "cell_type": "code",
   "execution_count": 63,
   "metadata": {
    "colab": {},
    "colab_type": "code",
    "collapsed": true,
    "id": "LAjb0MiXP8Ot",
    "jupyter": {
     "outputs_hidden": true
    }
   },
   "outputs": [],
   "source": [
    "lstm_size = 256\n",
    "lstm_layers = 1\n",
    "batch_size = 500\n",
    "learning_rate = 0.001"
   ]
  },
  {
   "cell_type": "markdown",
   "metadata": {
    "colab_type": "text",
    "id": "tB7poo38P8Ou"
   },
   "source": [
    "For the network itself, we'll be passing in our 200 element long review vectors. Each batch will be `batch_size` vectors. We'll also be using dropout on the LSTM layer, so we'll make a placeholder for the keep probability."
   ]
  },
  {
   "cell_type": "markdown",
   "metadata": {
    "colab_type": "text",
    "id": "1oxg5YwuP8Ou"
   },
   "source": [
    "> **Exercise:** Create the `inputs_`, `labels_`, and drop out `keep_prob` placeholders using `tf.placeholder`. `labels_` needs to be two-dimensional to work with some functions later.  Since `keep_prob` is a scalar (a 0-dimensional tensor), you shouldn't provide a size to `tf.placeholder`."
   ]
  },
  {
   "cell_type": "code",
   "execution_count": 64,
   "metadata": {
    "colab": {},
    "colab_type": "code",
    "id": "LoTIb9EFP8Ou"
   },
   "outputs": [],
   "source": [
    "n_words = len(vocab_to_int) + 1 # Adding 1 because we use 0's for padding, dictionary started at 1\n",
    "\n",
    "# Create the graph object\n",
    "graph = tf.Graph()\n",
    "# Add nodes to the graph\n",
    "with graph.as_default():\n",
    "    inputs_ = tf.placeholder(tf.int32, [None, None], name='inputs')\n",
    "    labels_ = tf.placeholder(tf.int32, [None, None], name='labels')\n",
    "    keep_prob = tf.placeholder(tf.float32, name='keep_prob')"
   ]
  },
  {
   "cell_type": "markdown",
   "metadata": {
    "colab_type": "text",
    "id": "shmWy-H0P8Ov"
   },
   "source": [
    "### Embedding\n",
    "\n",
    "Now we'll add an embedding layer. We need to do this because there are 74000 words in our vocabulary. It is massively inefficient to one-hot encode our classes here. You should remember dealing with this problem from the word2vec lesson. Instead of one-hot encoding, we can have an embedding layer and use that layer as a lookup table. You could train an embedding layer using word2vec, then load it here. But, it's fine to just make a new layer and let the network learn the weights.\n",
    "\n",
    "> **Exercise:** Create the embedding lookup matrix as a `tf.Variable`. Use that embedding matrix to get the embedded vectors to pass to the LSTM cell with [`tf.nn.embedding_lookup`](https://www.tensorflow.org/api_docs/python/tf/nn/embedding_lookup). This function takes the embedding matrix and an input tensor, such as the review vectors. Then, it'll return another tensor with the embedded vectors. So, if the embedding layer has 200 units, the function will return a tensor with size [batch_size, 200].\n",
    "\n"
   ]
  },
  {
   "cell_type": "code",
   "execution_count": 65,
   "metadata": {
    "colab": {},
    "colab_type": "code",
    "id": "VWl26yOOP8Ow"
   },
   "outputs": [],
   "source": [
    "# Size of the embedding vectors (number of units in the embedding layer)\n",
    "embed_size = 300 \n",
    "\n",
    "with graph.as_default():\n",
    "    embedding = tf.Variable(tf.random_uniform(shape=(n_words, embed_size), minval = -1, maxval = 1))\n",
    "    embed = tf.nn.embedding_lookup(embedding, inputs_)"
   ]
  },
  {
   "cell_type": "markdown",
   "metadata": {
    "colab_type": "text",
    "id": "suQej6pOP8Ox"
   },
   "source": [
    "### LSTM cell\n",
    "\n",
    "<img src=\"assets/network_diagram.png\" width=400px>\n",
    "\n",
    "Next, we'll create our LSTM cells to use in the recurrent network ([TensorFlow documentation](https://www.tensorflow.org/api_docs/python/tf/contrib/rnn)). Here we are just defining what the cells look like. This isn't actually building the graph, just defining the type of cells we want in our graph.\n",
    "\n",
    "To create a basic LSTM cell for the graph, you'll want to use `tf.contrib.rnn.BasicLSTMCell`. Looking at the function documentation:\n",
    "\n",
    "```\n",
    "tf.contrib.rnn.BasicLSTMCell(num_units, forget_bias=1.0, input_size=None, state_is_tuple=True, activation=<function tanh at 0x109f1ef28>)\n",
    "```\n",
    "\n",
    "you can see it takes a parameter called `num_units`, the number of units in the cell, called `lstm_size` in this code. So then, you can write something like \n",
    "\n",
    "```\n",
    "lstm = tf.contrib.rnn.BasicLSTMCell(num_units)\n",
    "```\n",
    "\n",
    "to create an LSTM cell with `num_units`. Next, you can add dropout to the cell with `tf.contrib.rnn.DropoutWrapper`. This just wraps the cell in another cell, but with dropout added to the inputs and/or outputs. It's a really convenient way to make your network better with almost no effort! So you'd do something like\n",
    "\n",
    "```\n",
    "drop = tf.contrib.rnn.DropoutWrapper(cell, output_keep_prob=keep_prob)\n",
    "```\n",
    "\n",
    "Most of the time, your network will have better performance with more layers. That's sort of the magic of deep learning, adding more layers allows the network to learn really complex relationships. Again, there is a simple way to create multiple layers of LSTM cells with `tf.contrib.rnn.MultiRNNCell`:\n",
    "\n",
    "```\n",
    "cell = tf.contrib.rnn.MultiRNNCell([drop] * lstm_layers)\n",
    "```\n",
    "\n",
    "Here, `[drop] * lstm_layers` creates a list of cells (`drop`) that is `lstm_layers` long. The `MultiRNNCell` wrapper builds this into multiple layers of RNN cells, one for each cell in the list.\n",
    "\n",
    "So the final cell you're using in the network is actually multiple (or just one) LSTM cells with dropout. But it all works the same from an architectural viewpoint, just a more complicated graph in the cell.\n",
    "\n",
    "> **Exercise:** Below, use `tf.contrib.rnn.BasicLSTMCell` to create an LSTM cell. Then, add drop out to it with `tf.contrib.rnn.DropoutWrapper`. Finally, create multiple LSTM layers with `tf.contrib.rnn.MultiRNNCell`.\n",
    "\n",
    "Here is [a tutorial on building RNNs](https://www.tensorflow.org/tutorials/recurrent) that will help you out.\n"
   ]
  },
  {
   "cell_type": "code",
   "execution_count": 66,
   "metadata": {
    "colab": {},
    "colab_type": "code",
    "id": "YkZ8oLL6P8Ox"
   },
   "outputs": [],
   "source": [
    "with graph.as_default():\n",
    "    # Your basic LSTM cell\n",
    "\n",
    "    def build_cell(num_units, keep_prob):\n",
    "      lstm = tf.contrib.rnn.BasicLSTMCell(num_units)\n",
    "      drop = tf.contrib.rnn.DropoutWrapper(lstm, output_keep_prob=keep_prob)\n",
    " \n",
    "      return drop\n",
    "\n",
    "    # Stack up multiple LSTM layers, for deep learning\n",
    "    cell = tf.contrib.rnn.MultiRNNCell([build_cell(lstm_size, keep_prob) for _ in range(lstm_layers)])\n",
    "    \n",
    "    # Getting an initial state of all zeros\n",
    "    initial_state = cell.zero_state(batch_size, tf.float32)"
   ]
  },
  {
   "cell_type": "markdown",
   "metadata": {
    "colab_type": "text",
    "id": "PcUV3hAHP8Oz"
   },
   "source": [
    "### RNN forward pass\n",
    "\n",
    "<img src=\"assets/network_diagram.png\" width=400px>\n",
    "\n",
    "Now we need to actually run the data through the RNN nodes. You can use [`tf.nn.dynamic_rnn`](https://www.tensorflow.org/api_docs/python/tf/nn/dynamic_rnn) to do this. You'd pass in the RNN cell you created (our multiple layered LSTM `cell` for instance), and the inputs to the network.\n",
    "\n",
    "```\n",
    "outputs, final_state = tf.nn.dynamic_rnn(cell, inputs, initial_state=initial_state)\n",
    "```\n",
    "\n",
    "Above I created an initial state, `initial_state`, to pass to the RNN. This is the cell state that is passed between the hidden layers in successive time steps. `tf.nn.dynamic_rnn` takes care of most of the work for us. We pass in our cell and the input to the cell, then it does the unrolling and everything else for us. It returns outputs for each time step and the final_state of the hidden layer.\n",
    "\n",
    "> **Exercise:** Use `tf.nn.dynamic_rnn` to add the forward pass through the RNN. Remember that we're actually passing in vectors from the embedding layer, `embed`.\n",
    "\n"
   ]
  },
  {
   "cell_type": "code",
   "execution_count": 67,
   "metadata": {
    "colab": {},
    "colab_type": "code",
    "id": "G0Y3ucGtP8Oz"
   },
   "outputs": [],
   "source": [
    "with graph.as_default():\n",
    "    outputs, final_state = tf.nn.dynamic_rnn(cell, embed,\n",
    "                                             initial_state=initial_state)"
   ]
  },
  {
   "cell_type": "markdown",
   "metadata": {
    "colab_type": "text",
    "id": "aB97WYVIP8O0"
   },
   "source": [
    "### Output\n",
    "\n",
    "We only care about the final output, we'll be using that as our sentiment prediction. So we need to grab the last output with `outputs[:, -1]`, the calculate the cost from that and `labels_`."
   ]
  },
  {
   "cell_type": "code",
   "execution_count": 68,
   "metadata": {
    "colab": {},
    "colab_type": "code",
    "id": "DNHq7TtAP8O1"
   },
   "outputs": [],
   "source": [
    "with graph.as_default():\n",
    "    predictions = tf.contrib.layers.fully_connected(outputs[:, -1], 1, activation_fn=tf.sigmoid)\n",
    "    cost = tf.losses.mean_squared_error(labels_, predictions)\n",
    "    \n",
    "    optimizer = tf.train.AdamOptimizer(learning_rate).minimize(cost)"
   ]
  },
  {
   "cell_type": "markdown",
   "metadata": {
    "colab_type": "text",
    "id": "U3f2mc2hP8O2"
   },
   "source": [
    "### Validation accuracy\n",
    "\n",
    "Here we can add a few nodes to calculate the accuracy which we'll use in the validation pass."
   ]
  },
  {
   "cell_type": "code",
   "execution_count": 69,
   "metadata": {
    "colab": {},
    "colab_type": "code",
    "id": "CEhmQil0P8O2"
   },
   "outputs": [],
   "source": [
    "with graph.as_default():\n",
    "    correct_pred = tf.equal(tf.cast(tf.round(predictions), tf.int32), labels_)\n",
    "    accuracy = tf.reduce_mean(tf.cast(correct_pred, tf.float32))"
   ]
  },
  {
   "cell_type": "markdown",
   "metadata": {
    "colab_type": "text",
    "id": "gnFsORzBP8O3"
   },
   "source": [
    "### Batching\n",
    "\n",
    "This is a simple function for returning batches from our data. First it removes data such that we only have full batches. Then it iterates through the `x` and `y` arrays and returns slices out of those arrays with size `[batch_size]`."
   ]
  },
  {
   "cell_type": "code",
   "execution_count": 70,
   "metadata": {
    "colab": {},
    "colab_type": "code",
    "collapsed": true,
    "id": "GcYj-12vP8O3",
    "jupyter": {
     "outputs_hidden": true
    }
   },
   "outputs": [],
   "source": [
    "def get_batches(x, y, batch_size=100):\n",
    "    \n",
    "    n_batches = len(x)//batch_size\n",
    "    x, y = x[:n_batches*batch_size], y[:n_batches*batch_size]\n",
    "    for ii in range(0, len(x), batch_size):\n",
    "        yield x[ii:ii+batch_size], y[ii:ii+batch_size]"
   ]
  },
  {
   "cell_type": "markdown",
   "metadata": {
    "colab_type": "text",
    "id": "KAft0p4kP8O4"
   },
   "source": [
    "## Training\n",
    "\n",
    "Below is the typical training code. If you want to do this yourself, feel free to delete all this code and implement it yourself. Before you run this, make sure the `checkpoints` directory exists."
   ]
  },
  {
   "cell_type": "code",
   "execution_count": 71,
   "metadata": {
    "colab": {
     "base_uri": "https://localhost:8080/",
     "height": 1000
    },
    "colab_type": "code",
    "id": "13nR-DgDP8O4",
    "outputId": "99e0bb07-483e-4d82-9571-2b6c806b4ea2"
   },
   "outputs": [
    {
     "name": "stdout",
     "output_type": "stream",
     "text": [
      "Epoch: 0/10 Iteration: 5 Train loss: 0.241\n",
      "Epoch: 0/10 Iteration: 10 Train loss: 0.239\n",
      "Epoch: 0/10 Iteration: 15 Train loss: 0.230\n",
      "Epoch: 0/10 Iteration: 20 Train loss: 0.227\n",
      "Epoch: 0/10 Iteration: 25 Train loss: 0.208\n",
      "Val acc: 0.689\n",
      "Epoch: 0/10 Iteration: 30 Train loss: 0.204\n",
      "Epoch: 0/10 Iteration: 35 Train loss: 0.212\n",
      "Epoch: 0/10 Iteration: 40 Train loss: 0.219\n",
      "Epoch: 1/10 Iteration: 45 Train loss: 0.138\n",
      "Epoch: 1/10 Iteration: 50 Train loss: 0.220\n",
      "Val acc: 0.701\n",
      "Epoch: 1/10 Iteration: 55 Train loss: 0.163\n",
      "Epoch: 1/10 Iteration: 60 Train loss: 0.214\n",
      "Epoch: 1/10 Iteration: 65 Train loss: 0.182\n",
      "Epoch: 1/10 Iteration: 70 Train loss: 0.178\n",
      "Epoch: 1/10 Iteration: 75 Train loss: 0.180\n",
      "Val acc: 0.727\n",
      "Epoch: 1/10 Iteration: 80 Train loss: 0.203\n",
      "Epoch: 2/10 Iteration: 85 Train loss: 0.168\n",
      "Epoch: 2/10 Iteration: 90 Train loss: 0.186\n",
      "Epoch: 2/10 Iteration: 95 Train loss: 0.155\n",
      "Epoch: 2/10 Iteration: 100 Train loss: 0.176\n",
      "Val acc: 0.734\n",
      "Epoch: 2/10 Iteration: 105 Train loss: 0.141\n",
      "Epoch: 2/10 Iteration: 110 Train loss: 0.135\n",
      "Epoch: 2/10 Iteration: 115 Train loss: 0.199\n",
      "Epoch: 2/10 Iteration: 120 Train loss: 0.144\n",
      "Epoch: 3/10 Iteration: 125 Train loss: 0.147\n",
      "Val acc: 0.732\n",
      "Epoch: 3/10 Iteration: 130 Train loss: 0.163\n",
      "Epoch: 3/10 Iteration: 135 Train loss: 0.200\n",
      "Epoch: 3/10 Iteration: 140 Train loss: 0.134\n",
      "Epoch: 3/10 Iteration: 145 Train loss: 0.127\n",
      "Epoch: 3/10 Iteration: 150 Train loss: 0.102\n",
      "Val acc: 0.773\n",
      "Epoch: 3/10 Iteration: 155 Train loss: 0.139\n",
      "Epoch: 3/10 Iteration: 160 Train loss: 0.148\n",
      "Epoch: 4/10 Iteration: 165 Train loss: 0.171\n",
      "Epoch: 4/10 Iteration: 170 Train loss: 0.201\n",
      "Epoch: 4/10 Iteration: 175 Train loss: 0.183\n",
      "Val acc: 0.644\n",
      "Epoch: 4/10 Iteration: 180 Train loss: 0.184\n",
      "Epoch: 4/10 Iteration: 185 Train loss: 0.142\n",
      "Epoch: 4/10 Iteration: 190 Train loss: 0.135\n",
      "Epoch: 4/10 Iteration: 195 Train loss: 0.133\n",
      "Epoch: 4/10 Iteration: 200 Train loss: 0.155\n",
      "Val acc: 0.782\n",
      "Epoch: 5/10 Iteration: 205 Train loss: 0.113\n",
      "Epoch: 5/10 Iteration: 210 Train loss: 0.109\n",
      "Epoch: 5/10 Iteration: 215 Train loss: 0.108\n",
      "Epoch: 5/10 Iteration: 220 Train loss: 0.108\n",
      "Epoch: 5/10 Iteration: 225 Train loss: 0.097\n",
      "Val acc: 0.791\n",
      "Epoch: 5/10 Iteration: 230 Train loss: 0.111\n",
      "Epoch: 5/10 Iteration: 235 Train loss: 0.071\n",
      "Epoch: 5/10 Iteration: 240 Train loss: 0.105\n",
      "Epoch: 6/10 Iteration: 245 Train loss: 0.103\n",
      "Epoch: 6/10 Iteration: 250 Train loss: 0.141\n",
      "Val acc: 0.760\n",
      "Epoch: 6/10 Iteration: 255 Train loss: 0.107\n",
      "Epoch: 6/10 Iteration: 260 Train loss: 0.118\n",
      "Epoch: 6/10 Iteration: 265 Train loss: 0.110\n",
      "Epoch: 6/10 Iteration: 270 Train loss: 0.085\n",
      "Epoch: 6/10 Iteration: 275 Train loss: 0.066\n",
      "Val acc: 0.807\n",
      "Epoch: 6/10 Iteration: 280 Train loss: 0.171\n",
      "Epoch: 7/10 Iteration: 285 Train loss: 0.181\n",
      "Epoch: 7/10 Iteration: 290 Train loss: 0.191\n",
      "Epoch: 7/10 Iteration: 295 Train loss: 0.185\n",
      "Epoch: 7/10 Iteration: 300 Train loss: 0.194\n",
      "Val acc: 0.638\n",
      "Epoch: 7/10 Iteration: 305 Train loss: 0.187\n",
      "Epoch: 7/10 Iteration: 310 Train loss: 0.163\n",
      "Epoch: 7/10 Iteration: 315 Train loss: 0.121\n",
      "Epoch: 7/10 Iteration: 320 Train loss: 0.094\n",
      "Epoch: 8/10 Iteration: 325 Train loss: 0.162\n",
      "Val acc: 0.656\n",
      "Epoch: 8/10 Iteration: 330 Train loss: 0.178\n",
      "Epoch: 8/10 Iteration: 335 Train loss: 0.181\n",
      "Epoch: 8/10 Iteration: 340 Train loss: 0.194\n",
      "Epoch: 8/10 Iteration: 345 Train loss: 0.192\n",
      "Epoch: 8/10 Iteration: 350 Train loss: 0.187\n",
      "Val acc: 0.640\n",
      "Epoch: 8/10 Iteration: 355 Train loss: 0.175\n",
      "Epoch: 8/10 Iteration: 360 Train loss: 0.181\n",
      "Epoch: 9/10 Iteration: 365 Train loss: 0.143\n",
      "Epoch: 9/10 Iteration: 370 Train loss: 0.152\n",
      "Epoch: 9/10 Iteration: 375 Train loss: 0.141\n",
      "Val acc: 0.682\n",
      "Epoch: 9/10 Iteration: 380 Train loss: 0.147\n",
      "Epoch: 9/10 Iteration: 385 Train loss: 0.116\n",
      "Epoch: 9/10 Iteration: 390 Train loss: 0.084\n",
      "Epoch: 9/10 Iteration: 395 Train loss: 0.094\n",
      "Epoch: 9/10 Iteration: 400 Train loss: 0.106\n",
      "Val acc: 0.777\n"
     ]
    }
   ],
   "source": [
    "epochs = 10\n",
    "\n",
    "with graph.as_default():\n",
    "    saver = tf.train.Saver()\n",
    "\n",
    "with tf.Session(graph=graph) as sess:\n",
    "    sess.run(tf.global_variables_initializer())\n",
    "    iteration = 1\n",
    "    for e in range(epochs):\n",
    "        state = sess.run(initial_state)\n",
    "        \n",
    "        for ii, (x, y) in enumerate(get_batches(train_x, train_y, batch_size), 1):\n",
    "            feed = {inputs_: x,\n",
    "                    labels_: y[:, None],\n",
    "                    keep_prob: 0.5,\n",
    "                    initial_state: state}\n",
    "            loss, state, _ = sess.run([cost, final_state, optimizer], feed_dict=feed)\n",
    "            \n",
    "            if iteration%5==0:\n",
    "                print(\"Epoch: {}/{}\".format(e, epochs),\n",
    "                      \"Iteration: {}\".format(iteration),\n",
    "                      \"Train loss: {:.3f}\".format(loss))\n",
    "\n",
    "            if iteration%25==0:\n",
    "                val_acc = []\n",
    "                val_state = sess.run(cell.zero_state(batch_size, tf.float32))\n",
    "                for x, y in get_batches(val_x, val_y, batch_size):\n",
    "                    feed = {inputs_: x,\n",
    "                            labels_: y[:, None],\n",
    "                            keep_prob: 1,\n",
    "                            initial_state: val_state}\n",
    "                    batch_acc, val_state = sess.run([accuracy, final_state], feed_dict=feed)\n",
    "                    val_acc.append(batch_acc)\n",
    "                print(\"Val acc: {:.3f}\".format(np.mean(val_acc)))\n",
    "            iteration +=1\n",
    "    saver.save(sess, \"checkpoints/sentiment.ckpt\")"
   ]
  },
  {
   "cell_type": "markdown",
   "metadata": {
    "colab_type": "text",
    "id": "VI5E79qZP8O5"
   },
   "source": [
    "## Testing"
   ]
  },
  {
   "cell_type": "code",
   "execution_count": 72,
   "metadata": {
    "colab": {
     "base_uri": "https://localhost:8080/",
     "height": 51
    },
    "colab_type": "code",
    "id": "9_HKcINtP8O5",
    "outputId": "9a7b71ac-436f-493f-d1fd-c8f9a0aa4724"
   },
   "outputs": [
    {
     "name": "stdout",
     "output_type": "stream",
     "text": [
      "INFO:tensorflow:Restoring parameters from checkpoints/sentiment.ckpt\n",
      "Test accuracy: 0.779\n"
     ]
    }
   ],
   "source": [
    "test_acc = []\n",
    "with tf.Session(graph=graph) as sess:\n",
    "    saver.restore(sess, tf.train.latest_checkpoint('checkpoints'))\n",
    "    test_state = sess.run(cell.zero_state(batch_size, tf.float32))\n",
    "    for ii, (x, y) in enumerate(get_batches(test_x, test_y, batch_size), 1):\n",
    "        feed = {inputs_: x,\n",
    "                labels_: y[:, None],\n",
    "                keep_prob: 1,\n",
    "                initial_state: test_state}\n",
    "        batch_acc, test_state = sess.run([accuracy, final_state], feed_dict=feed)\n",
    "        test_acc.append(batch_acc)\n",
    "    print(\"Test accuracy: {:.3f}\".format(np.mean(test_acc)))"
   ]
  },
  {
   "cell_type": "code",
   "execution_count": 72,
   "metadata": {
    "colab": {},
    "colab_type": "code",
    "id": "9aCjtpXH2nS_"
   },
   "outputs": [],
   "source": []
  }
 ],
 "metadata": {
  "accelerator": "GPU",
  "colab": {
   "collapsed_sections": [],
   "name": "Sentiment_RNN.ipynb",
   "provenance": []
  },
  "kernelspec": {
   "display_name": "Python 3",
   "language": "python",
   "name": "python3"
  },
  "language_info": {
   "codemirror_mode": {
    "name": "ipython",
    "version": 3
   },
   "file_extension": ".py",
   "mimetype": "text/x-python",
   "name": "python",
   "nbconvert_exporter": "python",
   "pygments_lexer": "ipython3",
   "version": "3.7.6"
  }
 },
 "nbformat": 4,
 "nbformat_minor": 4
}
